{
  "nbformat": 4,
  "nbformat_minor": 0,
  "metadata": {
    "colab": {
      "name": "read_images.ipynb",
      "provenance": []
    },
    "kernelspec": {
      "name": "python3",
      "display_name": "Python 3"
    },
    "language_info": {
      "name": "python"
    }
  },
  "cells": [
    {
      "cell_type": "code",
      "execution_count": 1,
      "metadata": {
        "colab": {
          "base_uri": "https://localhost:8080/"
        },
        "id": "Egt4zvILwVmn",
        "outputId": "1d656182-19e3-4374-a6da-efe220162da3"
      },
      "outputs": [
        {
          "output_type": "stream",
          "name": "stdout",
          "text": [
            "Mounted at /content/drive\n"
          ]
        }
      ],
      "source": [
        "from google.colab import drive\n",
        "drive.mount('/content/drive')"
      ]
    },
    {
      "cell_type": "code",
      "source": [
        "import numpy as np\n",
        "import cv2 as cv\n",
        "import pandas as pd\n",
        "import glob\n",
        "from tqdm import tqdm\n",
        "from typing import List, Tuple"
      ],
      "metadata": {
        "id": "3Vt89vG9wWWk"
      },
      "execution_count": 17,
      "outputs": []
    },
    {
      "cell_type": "code",
      "source": [
        "def read_photo_path_data(path = '/content/drive/My Drive/aueb/') -> pd.DataFrame:\n",
        "  \"\"\"\n",
        "  Reads the file paths of every jpg file in the chosen directory\n",
        "  Returns a DataFrame Object\n",
        "  \"\"\"\n",
        "  path = path +'**/*.jpg' # Includes all jpgs from all subdirectories\n",
        "  file_paths = glob.glob(path, recursive = True)\n",
        "  if not file_paths: # If glob didn't find any .jpg files\n",
        "    raise ValueError(f\"Did not find any .jpg files on path {path}\")\n",
        "  return pd.DataFrame(file_paths)\n",
        "\n",
        "\n",
        "def extract_label_from_dataframe(df: pd.DataFrame) -> pd.Series:\n",
        "  \"\"\"\n",
        "  Extracts the image label from path in the FIRST COLUMN.\n",
        "  It is assumed that image is named as {class_label}_{photo_id}.jpg\n",
        "  \"\"\"\n",
        "  return df.iloc[:,0].str.split(\"/\").str[-1].str.split(\"_\").str[0]\n",
        "\n",
        "\n",
        "def images_to_ndarray(photo_path : str, image_size: Tuple)-> np.array:\n",
        "  \"\"\"\n",
        "  The function reads the images supplied by \n",
        "  photo_paths parameter. The function reads an image from path\n",
        "  and resizes it.\n",
        "  \"\"\"\n",
        "  nd_array = cv.imread(photo_path)\n",
        "  return cv.resize(nd_array, image_size)"
      ],
      "metadata": {
        "id": "oSVicI61wfiG"
      },
      "execution_count": 18,
      "outputs": []
    },
    {
      "cell_type": "code",
      "source": [
        "IMG_SIZE = (200, 200)"
      ],
      "metadata": {
        "id": "KREttdPqw8CD"
      },
      "execution_count": 21,
      "outputs": []
    },
    {
      "cell_type": "code",
      "source": [
        "photo_path_data = read_photo_path_data(path = '/content/drive/My Drive/Images/') # read image paths\n",
        "photo_path_data['class_label'] = extract_label_from_dataframe(photo_path_data) # extract label and assign it to column\n",
        "photo_path_data.rename(columns = {0:'path'},inplace = True)"
      ],
      "metadata": {
        "id": "OPBK7Q80wn1m"
      },
      "execution_count": 19,
      "outputs": []
    },
    {
      "cell_type": "code",
      "source": [
        "#Reading Images may take a long time (>30min)\n",
        "X = [images_to_ndarray(im, image_size = IMG_SIZE) for im in tqdm(photo_path_data['path'])]\n",
        "X = np.array(X)\n",
        "Y = np.array(photo_path_data['class_label'])\n",
        "np.savez_compressed('/content/drive/MyDrive/models/data', a = X, b = Y) # Save np.array data to drive"
      ],
      "metadata": {
        "id": "Az9Wek2rwqOt"
      },
      "execution_count": null,
      "outputs": []
    }
  ]
}