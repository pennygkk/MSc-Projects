{
 "cells": [
  {
   "cell_type": "markdown",
   "id": "c1e20877",
   "metadata": {},
   "source": [
    "# Exploring the Weather in Athens\n",
    "---\n",
    "\n",
    "> *Name:* Panagiota Gkourioti <br />\n",
    "> *Student ID:* p2822109 <br />\n",
    "> *Course:* Business Analytics Practicum I <br />\n",
    "> *Professor:* Panos Louridas <br />\n",
    "\n",
    "> Department of Management Science and Technology <br />\n",
    "> Athens University of Economics and Business <br />\n",
    "\n",
    "## Description of the case\n",
    "\n",
    "This notebook focuses on exploring the weather conditions in Athens for a period of more than 50 years, from 1955 to 2020.\n",
    "\n",
    "## Load the necessary libraries\n",
    "\n",
    "Initially, the necessary libraries that will be used in this project are imported."
   ]
  },
  {
   "cell_type": "code",
   "execution_count": 1,
   "id": "b77427cf",
   "metadata": {},
   "outputs": [],
   "source": [
    "import numpy as np\n",
    "import pandas as pd\n",
    "%matplotlib inline\n",
    "import matplotlib.pyplot as plt\n",
    "import matplotlib\n",
    "import matplotlib.dates as mdates\n",
    "import seaborn as sns\n",
    "matplotlib.style.use('ggplot')"
   ]
  },
  {
   "cell_type": "markdown",
   "id": "81ba4839",
   "metadata": {},
   "source": [
    "## Obtain and Read the Data\n",
    "\n",
    "The datasets used for the analysis were obtained from two sources:\n",
    "\n",
    "* The [National Oceanic and Atmospheric Administration's National Centers for Environmental Information](https://www.ncdc.noaa.gov/cdo-web/search). \n",
    "\n",
    "* The [Hellenic Data Service](https://data.hellenicdataservice.gr/dataset/66e1c19a-7b0e-456f-b465-b301a1130e3f).\n",
    "\n",
    "### Hellinikon data\n",
    "\n",
    "* The first dataset, <code>hellinikon.csv</code>, contains the data downloaded from the National Oceanic and Atmospheric Administration's National Centers for Environmental Information and refers to the weather station of Hellinikon during the period from 1955-01-01 to 2020-12-31.\n",
    "\n",
    "* Units were set to \"Metric\" in order to get millimeters for precipitation and Celsius for temperatures.\n",
    "\n",
    "* The features included are described below:\n",
    "\n",
    "| Feature | Description |\n",
    "| ------------- |:-------------:| \n",
    "| STATION | Station identification code, referring to Hellinikon station, Greece |\n",
    "| DATE | Date of record |\n",
    "| PRCP | Precipitation (mm) |\n",
    "| TAVG | Average Temperature (°C)|\n",
    "| TMAX | Maximum Temperature (°C) |\n",
    "| TMIN | Minimum Temperature (°C)|"
   ]
  },
  {
   "cell_type": "markdown",
   "id": "9245b2f2",
   "metadata": {},
   "source": [
    "* We read the data, which is located in `data` folder, set DATE as datetime object and check the first records."
   ]
  },
  {
   "cell_type": "code",
   "execution_count": 49,
   "id": "057d51bc",
   "metadata": {},
   "outputs": [
    {
     "data": {
      "text/html": [
       "<div>\n",
       "<style scoped>\n",
       "    .dataframe tbody tr th:only-of-type {\n",
       "        vertical-align: middle;\n",
       "    }\n",
       "\n",
       "    .dataframe tbody tr th {\n",
       "        vertical-align: top;\n",
       "    }\n",
       "\n",
       "    .dataframe thead th {\n",
       "        text-align: right;\n",
       "    }\n",
       "</style>\n",
       "<table border=\"1\" class=\"dataframe\">\n",
       "  <thead>\n",
       "    <tr style=\"text-align: right;\">\n",
       "      <th></th>\n",
       "      <th>STATION</th>\n",
       "      <th>DATE</th>\n",
       "      <th>PRCP</th>\n",
       "      <th>TAVG</th>\n",
       "      <th>TMAX</th>\n",
       "      <th>TMIN</th>\n",
       "    </tr>\n",
       "  </thead>\n",
       "  <tbody>\n",
       "    <tr>\n",
       "      <th>0</th>\n",
       "      <td>GR000016716</td>\n",
       "      <td>1955-01-01</td>\n",
       "      <td>0.0</td>\n",
       "      <td>NaN</td>\n",
       "      <td>18.5</td>\n",
       "      <td>10.2</td>\n",
       "    </tr>\n",
       "    <tr>\n",
       "      <th>1</th>\n",
       "      <td>GR000016716</td>\n",
       "      <td>1955-01-02</td>\n",
       "      <td>2.0</td>\n",
       "      <td>NaN</td>\n",
       "      <td>14.4</td>\n",
       "      <td>7.0</td>\n",
       "    </tr>\n",
       "    <tr>\n",
       "      <th>2</th>\n",
       "      <td>GR000016716</td>\n",
       "      <td>1955-01-03</td>\n",
       "      <td>0.0</td>\n",
       "      <td>NaN</td>\n",
       "      <td>15.8</td>\n",
       "      <td>9.6</td>\n",
       "    </tr>\n",
       "    <tr>\n",
       "      <th>3</th>\n",
       "      <td>GR000016716</td>\n",
       "      <td>1955-01-04</td>\n",
       "      <td>0.0</td>\n",
       "      <td>NaN</td>\n",
       "      <td>18.8</td>\n",
       "      <td>7.3</td>\n",
       "    </tr>\n",
       "    <tr>\n",
       "      <th>4</th>\n",
       "      <td>GR000016716</td>\n",
       "      <td>1955-01-05</td>\n",
       "      <td>0.0</td>\n",
       "      <td>NaN</td>\n",
       "      <td>17.9</td>\n",
       "      <td>8.4</td>\n",
       "    </tr>\n",
       "  </tbody>\n",
       "</table>\n",
       "</div>"
      ],
      "text/plain": [
       "       STATION       DATE  PRCP  TAVG  TMAX  TMIN\n",
       "0  GR000016716 1955-01-01   0.0   NaN  18.5  10.2\n",
       "1  GR000016716 1955-01-02   2.0   NaN  14.4   7.0\n",
       "2  GR000016716 1955-01-03   0.0   NaN  15.8   9.6\n",
       "3  GR000016716 1955-01-04   0.0   NaN  18.8   7.3\n",
       "4  GR000016716 1955-01-05   0.0   NaN  17.9   8.4"
      ]
     },
     "execution_count": 49,
     "metadata": {},
     "output_type": "execute_result"
    }
   ],
   "source": [
    "hellinikon = pd.read_csv('data\\\\hellinikon.csv', parse_dates=['DATE'])\n",
    "\n",
    "hellinikon.head()"
   ]
  },
  {
   "cell_type": "markdown",
   "id": "5cb01390",
   "metadata": {},
   "source": [
    "* We remove the Station column, since it is the same for all records (Hellinikon station) and check again the first records as well as the data types, which are correct."
   ]
  },
  {
   "cell_type": "code",
   "execution_count": 50,
   "id": "7030d020",
   "metadata": {},
   "outputs": [
    {
     "data": {
      "text/html": [
       "<div>\n",
       "<style scoped>\n",
       "    .dataframe tbody tr th:only-of-type {\n",
       "        vertical-align: middle;\n",
       "    }\n",
       "\n",
       "    .dataframe tbody tr th {\n",
       "        vertical-align: top;\n",
       "    }\n",
       "\n",
       "    .dataframe thead th {\n",
       "        text-align: right;\n",
       "    }\n",
       "</style>\n",
       "<table border=\"1\" class=\"dataframe\">\n",
       "  <thead>\n",
       "    <tr style=\"text-align: right;\">\n",
       "      <th></th>\n",
       "      <th>DATE</th>\n",
       "      <th>PRCP</th>\n",
       "      <th>TAVG</th>\n",
       "      <th>TMAX</th>\n",
       "      <th>TMIN</th>\n",
       "    </tr>\n",
       "  </thead>\n",
       "  <tbody>\n",
       "    <tr>\n",
       "      <th>0</th>\n",
       "      <td>1955-01-01</td>\n",
       "      <td>0.0</td>\n",
       "      <td>NaN</td>\n",
       "      <td>18.5</td>\n",
       "      <td>10.2</td>\n",
       "    </tr>\n",
       "    <tr>\n",
       "      <th>1</th>\n",
       "      <td>1955-01-02</td>\n",
       "      <td>2.0</td>\n",
       "      <td>NaN</td>\n",
       "      <td>14.4</td>\n",
       "      <td>7.0</td>\n",
       "    </tr>\n",
       "    <tr>\n",
       "      <th>2</th>\n",
       "      <td>1955-01-03</td>\n",
       "      <td>0.0</td>\n",
       "      <td>NaN</td>\n",
       "      <td>15.8</td>\n",
       "      <td>9.6</td>\n",
       "    </tr>\n",
       "    <tr>\n",
       "      <th>3</th>\n",
       "      <td>1955-01-04</td>\n",
       "      <td>0.0</td>\n",
       "      <td>NaN</td>\n",
       "      <td>18.8</td>\n",
       "      <td>7.3</td>\n",
       "    </tr>\n",
       "    <tr>\n",
       "      <th>4</th>\n",
       "      <td>1955-01-05</td>\n",
       "      <td>0.0</td>\n",
       "      <td>NaN</td>\n",
       "      <td>17.9</td>\n",
       "      <td>8.4</td>\n",
       "    </tr>\n",
       "  </tbody>\n",
       "</table>\n",
       "</div>"
      ],
      "text/plain": [
       "        DATE  PRCP  TAVG  TMAX  TMIN\n",
       "0 1955-01-01   0.0   NaN  18.5  10.2\n",
       "1 1955-01-02   2.0   NaN  14.4   7.0\n",
       "2 1955-01-03   0.0   NaN  15.8   9.6\n",
       "3 1955-01-04   0.0   NaN  18.8   7.3\n",
       "4 1955-01-05   0.0   NaN  17.9   8.4"
      ]
     },
     "execution_count": 50,
     "metadata": {},
     "output_type": "execute_result"
    }
   ],
   "source": [
    "del hellinikon['STATION']\n",
    "\n",
    "hellinikon.head()"
   ]
  },
  {
   "cell_type": "code",
   "execution_count": 4,
   "id": "e5148fc1",
   "metadata": {},
   "outputs": [
    {
     "data": {
      "text/plain": [
       "DATE    datetime64[ns]\n",
       "PRCP           float64\n",
       "TAVG           float64\n",
       "TMAX           float64\n",
       "TMIN           float64\n",
       "dtype: object"
      ]
     },
     "execution_count": 4,
     "metadata": {},
     "output_type": "execute_result"
    }
   ],
   "source": [
    "hellinikon.dtypes"
   ]
  },
  {
   "cell_type": "markdown",
   "id": "95c1aa46",
   "metadata": {},
   "source": [
    "### Athens data\n",
    "\n",
    "* The second dataset, <code>athens.csv</code>, contains the data downloaded from the Hellenic Data Service and refers to the weather station of Athens during the period from 2010-01-01 to 2019-12-31.\n",
    "* The features included are the same with the hellinikon dataset (DATE, PRCP, TAVG, TMAX, TMIN)"
   ]
  },
  {
   "cell_type": "markdown",
   "id": "9c0388ec",
   "metadata": {},
   "source": [
    "* We read the data,  which is located in `data` folder, while simultaneously setting DATE as datetime object, removing unwanted columns and setting \"---\" values as missing values. We then check the first records."
   ]
  },
  {
   "cell_type": "code",
   "execution_count": 48,
   "id": "ce6aa1f5",
   "metadata": {},
   "outputs": [
    {
     "data": {
      "text/html": [
       "<div>\n",
       "<style scoped>\n",
       "    .dataframe tbody tr th:only-of-type {\n",
       "        vertical-align: middle;\n",
       "    }\n",
       "\n",
       "    .dataframe tbody tr th {\n",
       "        vertical-align: top;\n",
       "    }\n",
       "\n",
       "    .dataframe thead th {\n",
       "        text-align: right;\n",
       "    }\n",
       "</style>\n",
       "<table border=\"1\" class=\"dataframe\">\n",
       "  <thead>\n",
       "    <tr style=\"text-align: right;\">\n",
       "      <th></th>\n",
       "      <th>DATE</th>\n",
       "      <th>TAVG</th>\n",
       "      <th>TMAX</th>\n",
       "      <th>TMIN</th>\n",
       "      <th>PRCP</th>\n",
       "    </tr>\n",
       "  </thead>\n",
       "  <tbody>\n",
       "    <tr>\n",
       "      <th>0</th>\n",
       "      <td>2010-01-01</td>\n",
       "      <td>17.9</td>\n",
       "      <td>18.1</td>\n",
       "      <td>17.8</td>\n",
       "      <td>0.2</td>\n",
       "    </tr>\n",
       "    <tr>\n",
       "      <th>1</th>\n",
       "      <td>2010-01-02</td>\n",
       "      <td>15.6</td>\n",
       "      <td>15.7</td>\n",
       "      <td>15.5</td>\n",
       "      <td>0.0</td>\n",
       "    </tr>\n",
       "    <tr>\n",
       "      <th>2</th>\n",
       "      <td>2010-01-03</td>\n",
       "      <td>13.5</td>\n",
       "      <td>13.6</td>\n",
       "      <td>13.4</td>\n",
       "      <td>0.0</td>\n",
       "    </tr>\n",
       "    <tr>\n",
       "      <th>3</th>\n",
       "      <td>2010-01-04</td>\n",
       "      <td>9.5</td>\n",
       "      <td>9.6</td>\n",
       "      <td>9.5</td>\n",
       "      <td>0.0</td>\n",
       "    </tr>\n",
       "    <tr>\n",
       "      <th>4</th>\n",
       "      <td>2010-01-05</td>\n",
       "      <td>13.4</td>\n",
       "      <td>13.5</td>\n",
       "      <td>13.4</td>\n",
       "      <td>0.0</td>\n",
       "    </tr>\n",
       "  </tbody>\n",
       "</table>\n",
       "</div>"
      ],
      "text/plain": [
       "        DATE  TAVG  TMAX  TMIN  PRCP\n",
       "0 2010-01-01  17.9  18.1  17.8   0.2\n",
       "1 2010-01-02  15.6  15.7  15.5   0.0\n",
       "2 2010-01-03  13.5  13.6  13.4   0.0\n",
       "3 2010-01-04   9.5   9.6   9.5   0.0\n",
       "4 2010-01-05  13.4  13.5  13.4   0.0"
      ]
     },
     "execution_count": 48,
     "metadata": {},
     "output_type": "execute_result"
    }
   ],
   "source": [
    "athens = pd.read_csv('data\\\\athens.csv', usecols=[0, 1, 2, 3, 10], na_values=['---'], \n",
    "                     parse_dates=['DATE'], names=['DATE','TAVG', 'TMAX', 'TMIN', 'PRCP'])\n",
    "\n",
    "athens.head()"
   ]
  },
  {
   "cell_type": "markdown",
   "id": "85dc8dcf",
   "metadata": {},
   "source": [
    "* We also check the data types, which are correct."
   ]
  },
  {
   "cell_type": "code",
   "execution_count": 22,
   "id": "32deb75a",
   "metadata": {
    "scrolled": true
   },
   "outputs": [
    {
     "data": {
      "text/plain": [
       "DATE    datetime64[ns]\n",
       "TAVG           float64\n",
       "TMAX           float64\n",
       "TMIN           float64\n",
       "PRCP           float64\n",
       "dtype: object"
      ]
     },
     "execution_count": 22,
     "metadata": {},
     "output_type": "execute_result"
    }
   ],
   "source": [
    "athens.dtypes"
   ]
  },
  {
   "cell_type": "markdown",
   "id": "55879045",
   "metadata": {},
   "source": [
    "## Data exploration\n",
    "\n",
    "By observing at the descriptive statistics, we get an initial picture of the data. \n",
    "\n",
    "Regarding temperatures, the maximum values are 42°C for Hellinikon and 35.5°C for Athens station, while the minimum are -4.2°C for Hellinikon and 0.7°C for Athens. The temperatures on average seem normal for Greece, so we assume that the information is correct. \n",
    "\n",
    "Regarding precipitation, the minimum values are close to 0, which means no rain, and the maximum are 142 mm for Hellinikon and 97 mm for Athens station, which is also explained by some heavy rainfalls recorded."
   ]
  },
  {
   "cell_type": "code",
   "execution_count": 6,
   "id": "d59c63fe",
   "metadata": {},
   "outputs": [
    {
     "data": {
      "text/html": [
       "<div>\n",
       "<style scoped>\n",
       "    .dataframe tbody tr th:only-of-type {\n",
       "        vertical-align: middle;\n",
       "    }\n",
       "\n",
       "    .dataframe tbody tr th {\n",
       "        vertical-align: top;\n",
       "    }\n",
       "\n",
       "    .dataframe thead th {\n",
       "        text-align: right;\n",
       "    }\n",
       "</style>\n",
       "<table border=\"1\" class=\"dataframe\">\n",
       "  <thead>\n",
       "    <tr style=\"text-align: right;\">\n",
       "      <th></th>\n",
       "      <th>PRCP</th>\n",
       "      <th>TAVG</th>\n",
       "      <th>TMAX</th>\n",
       "      <th>TMIN</th>\n",
       "    </tr>\n",
       "  </thead>\n",
       "  <tbody>\n",
       "    <tr>\n",
       "      <th>count</th>\n",
       "      <td>22773.000000</td>\n",
       "      <td>20940.000000</td>\n",
       "      <td>22307.000000</td>\n",
       "      <td>22418.000000</td>\n",
       "    </tr>\n",
       "    <tr>\n",
       "      <th>mean</th>\n",
       "      <td>1.011316</td>\n",
       "      <td>18.273873</td>\n",
       "      <td>22.350191</td>\n",
       "      <td>14.471706</td>\n",
       "    </tr>\n",
       "    <tr>\n",
       "      <th>std</th>\n",
       "      <td>4.633756</td>\n",
       "      <td>6.926203</td>\n",
       "      <td>7.392810</td>\n",
       "      <td>6.462051</td>\n",
       "    </tr>\n",
       "    <tr>\n",
       "      <th>min</th>\n",
       "      <td>0.000000</td>\n",
       "      <td>-2.000000</td>\n",
       "      <td>1.000000</td>\n",
       "      <td>-4.200000</td>\n",
       "    </tr>\n",
       "    <tr>\n",
       "      <th>25%</th>\n",
       "      <td>0.000000</td>\n",
       "      <td>12.700000</td>\n",
       "      <td>16.600000</td>\n",
       "      <td>9.400000</td>\n",
       "    </tr>\n",
       "    <tr>\n",
       "      <th>50%</th>\n",
       "      <td>0.000000</td>\n",
       "      <td>17.700000</td>\n",
       "      <td>21.800000</td>\n",
       "      <td>14.200000</td>\n",
       "    </tr>\n",
       "    <tr>\n",
       "      <th>75%</th>\n",
       "      <td>0.000000</td>\n",
       "      <td>24.300000</td>\n",
       "      <td>28.700000</td>\n",
       "      <td>20.000000</td>\n",
       "    </tr>\n",
       "    <tr>\n",
       "      <th>max</th>\n",
       "      <td>142.000000</td>\n",
       "      <td>34.800000</td>\n",
       "      <td>42.000000</td>\n",
       "      <td>30.400000</td>\n",
       "    </tr>\n",
       "  </tbody>\n",
       "</table>\n",
       "</div>"
      ],
      "text/plain": [
       "               PRCP          TAVG          TMAX          TMIN\n",
       "count  22773.000000  20940.000000  22307.000000  22418.000000\n",
       "mean       1.011316     18.273873     22.350191     14.471706\n",
       "std        4.633756      6.926203      7.392810      6.462051\n",
       "min        0.000000     -2.000000      1.000000     -4.200000\n",
       "25%        0.000000     12.700000     16.600000      9.400000\n",
       "50%        0.000000     17.700000     21.800000     14.200000\n",
       "75%        0.000000     24.300000     28.700000     20.000000\n",
       "max      142.000000     34.800000     42.000000     30.400000"
      ]
     },
     "execution_count": 6,
     "metadata": {},
     "output_type": "execute_result"
    }
   ],
   "source": [
    "hellinikon.describe()"
   ]
  },
  {
   "cell_type": "code",
   "execution_count": 7,
   "id": "30275e01",
   "metadata": {},
   "outputs": [
    {
     "data": {
      "text/html": [
       "<div>\n",
       "<style scoped>\n",
       "    .dataframe tbody tr th:only-of-type {\n",
       "        vertical-align: middle;\n",
       "    }\n",
       "\n",
       "    .dataframe tbody tr th {\n",
       "        vertical-align: top;\n",
       "    }\n",
       "\n",
       "    .dataframe thead th {\n",
       "        text-align: right;\n",
       "    }\n",
       "</style>\n",
       "<table border=\"1\" class=\"dataframe\">\n",
       "  <thead>\n",
       "    <tr style=\"text-align: right;\">\n",
       "      <th></th>\n",
       "      <th>TAVG</th>\n",
       "      <th>TMAX</th>\n",
       "      <th>TMIN</th>\n",
       "      <th>PRCP</th>\n",
       "    </tr>\n",
       "  </thead>\n",
       "  <tbody>\n",
       "    <tr>\n",
       "      <th>count</th>\n",
       "      <td>3649.000000</td>\n",
       "      <td>3649.000000</td>\n",
       "      <td>3649.000000</td>\n",
       "      <td>3652.000000</td>\n",
       "    </tr>\n",
       "    <tr>\n",
       "      <th>mean</th>\n",
       "      <td>19.443245</td>\n",
       "      <td>19.543574</td>\n",
       "      <td>19.345574</td>\n",
       "      <td>1.255531</td>\n",
       "    </tr>\n",
       "    <tr>\n",
       "      <th>std</th>\n",
       "      <td>7.143639</td>\n",
       "      <td>7.154859</td>\n",
       "      <td>7.132787</td>\n",
       "      <td>4.993957</td>\n",
       "    </tr>\n",
       "    <tr>\n",
       "      <th>min</th>\n",
       "      <td>0.800000</td>\n",
       "      <td>0.900000</td>\n",
       "      <td>0.700000</td>\n",
       "      <td>0.000000</td>\n",
       "    </tr>\n",
       "    <tr>\n",
       "      <th>25%</th>\n",
       "      <td>13.700000</td>\n",
       "      <td>13.800000</td>\n",
       "      <td>13.600000</td>\n",
       "      <td>0.000000</td>\n",
       "    </tr>\n",
       "    <tr>\n",
       "      <th>50%</th>\n",
       "      <td>18.900000</td>\n",
       "      <td>19.000000</td>\n",
       "      <td>18.800000</td>\n",
       "      <td>0.000000</td>\n",
       "    </tr>\n",
       "    <tr>\n",
       "      <th>75%</th>\n",
       "      <td>25.800000</td>\n",
       "      <td>25.900000</td>\n",
       "      <td>25.700000</td>\n",
       "      <td>0.000000</td>\n",
       "    </tr>\n",
       "    <tr>\n",
       "      <th>max</th>\n",
       "      <td>35.300000</td>\n",
       "      <td>35.500000</td>\n",
       "      <td>35.200000</td>\n",
       "      <td>97.000000</td>\n",
       "    </tr>\n",
       "  </tbody>\n",
       "</table>\n",
       "</div>"
      ],
      "text/plain": [
       "              TAVG         TMAX         TMIN         PRCP\n",
       "count  3649.000000  3649.000000  3649.000000  3652.000000\n",
       "mean     19.443245    19.543574    19.345574     1.255531\n",
       "std       7.143639     7.154859     7.132787     4.993957\n",
       "min       0.800000     0.900000     0.700000     0.000000\n",
       "25%      13.700000    13.800000    13.600000     0.000000\n",
       "50%      18.900000    19.000000    18.800000     0.000000\n",
       "75%      25.800000    25.900000    25.700000     0.000000\n",
       "max      35.300000    35.500000    35.200000    97.000000"
      ]
     },
     "execution_count": 7,
     "metadata": {},
     "output_type": "execute_result"
    }
   ],
   "source": [
    "athens.describe()"
   ]
  },
  {
   "cell_type": "markdown",
   "id": "610fb3cf",
   "metadata": {},
   "source": [
    "### Missing dates\n",
    " \n",
    "The next step of the data exploration is to check for missing dates in the hellinikon dataset, between 1955-01-01 and 2020-12-31."
   ]
  },
  {
   "cell_type": "code",
   "execution_count": 8,
   "id": "fecb5008",
   "metadata": {},
   "outputs": [
    {
     "name": "stdout",
     "output_type": "stream",
     "text": [
      "DatetimeIndex(['2006-01-31', '2006-02-03', '2007-08-28', '2012-05-26',\n",
      "               '2012-05-27', '2012-05-28', '2012-05-31', '2012-06-01',\n",
      "               '2012-06-02', '2012-06-03',\n",
      "               ...\n",
      "               '2017-09-10', '2017-09-20', '2017-09-21', '2017-09-23',\n",
      "               '2017-09-27', '2017-10-02', '2017-10-08', '2017-10-15',\n",
      "               '2017-10-27', '2018-09-17'],\n",
      "              dtype='datetime64[ns]', length=856, freq=None)\n"
     ]
    }
   ],
   "source": [
    "hellinikon = hellinikon.set_index('DATE')\n",
    "# find missing dates between 1955-01-01 and 2020-12-31\n",
    "idx = pd.date_range(start='1955-01-01', end='2020-12-31').difference(hellinikon.index)\n",
    "hellinikon = hellinikon.reset_index()\n",
    "print(idx)"
   ]
  },
  {
   "cell_type": "markdown",
   "id": "b743d235",
   "metadata": {},
   "source": [
    "It is observed that 856 days are missing, from 2006 to 2018. We then group by year in order to search where the missing dates are located."
   ]
  },
  {
   "cell_type": "code",
   "execution_count": 9,
   "id": "de7b2b15",
   "metadata": {},
   "outputs": [
    {
     "name": "stdout",
     "output_type": "stream",
     "text": [
      "\n",
      "Count of missing dates in hellinikon dataset:\n",
      "\n",
      " 2013    355\n",
      "2014    267\n",
      "2012    206\n",
      "2017     23\n",
      "2006      2\n",
      "2007      1\n",
      "2016      1\n",
      "2018      1\n",
      "Name: DATE, dtype: int64\n"
     ]
    }
   ],
   "source": [
    "missing_dates = idx.to_frame(index=False, name='DATE')\n",
    "print(\"\\nCount of missing dates in hellinikon dataset:\\n\\n\", pd.to_datetime(missing_dates['DATE']).dt.year.value_counts())"
   ]
  },
  {
   "cell_type": "markdown",
   "id": "2c68e13d",
   "metadata": {},
   "source": [
    "It is observed that most missing dates are in 2012-2014 and some in 2017. Therefore, we could use the <code>athens.csv</code> file to impute the missing dates.\n",
    "\n",
    "We also explore the athens dataset for missing values."
   ]
  },
  {
   "cell_type": "code",
   "execution_count": 10,
   "id": "472959ad",
   "metadata": {},
   "outputs": [
    {
     "name": "stdout",
     "output_type": "stream",
     "text": [
      "DatetimeIndex([], dtype='datetime64[ns]', freq=None)\n"
     ]
    }
   ],
   "source": [
    "athens = athens.set_index('DATE')\n",
    "# find missing dates between 2010-01-01 and 2019-12-31\n",
    "idx2 = pd.date_range(start='2010-01-01', end='2019-12-31').difference(athens.index)\n",
    "athens = athens.reset_index()\n",
    "print(idx2)"
   ]
  },
  {
   "cell_type": "markdown",
   "id": "ccc5b4b2",
   "metadata": {},
   "source": [
    "No missing dates found in the athens dataset."
   ]
  },
  {
   "cell_type": "markdown",
   "id": "a1248af2",
   "metadata": {},
   "source": [
    "### Missing values\n",
    "\n",
    "Additionaly, we check for missing values in the hellinikon dataset and find specifically the missing values within the time period of 2010-2019 in order to fill them using the athens dataset."
   ]
  },
  {
   "cell_type": "code",
   "execution_count": 11,
   "id": "c2cfc4ad",
   "metadata": {},
   "outputs": [
    {
     "name": "stdout",
     "output_type": "stream",
     "text": [
      " \n",
      "Count of missing values in hellinikon dataset: \n",
      "\n",
      " DATE       0\n",
      "PRCP     478\n",
      "TAVG    2311\n",
      "TMAX     944\n",
      "TMIN     833\n",
      "dtype: int64\n"
     ]
    }
   ],
   "source": [
    "print(\" \\nCount of missing values in hellinikon dataset: \\n\\n\", hellinikon.isnull().sum())"
   ]
  },
  {
   "cell_type": "code",
   "execution_count": 12,
   "id": "dad6cfc5",
   "metadata": {},
   "outputs": [
    {
     "name": "stdout",
     "output_type": "stream",
     "text": [
      " \n",
      "Count of missing values in hellinikon dataset (2010-2019): \n",
      "\n",
      " DATE      0\n",
      "PRCP    102\n",
      "TAVG      0\n",
      "TMAX    820\n",
      "TMIN    449\n",
      "dtype: int64\n"
     ]
    }
   ],
   "source": [
    "hellinikon2 = hellinikon.loc[(hellinikon['DATE'] >= '2010-01-01') & (hellinikon['DATE'] <= '2019-12-31')]\n",
    "print(\" \\nCount of missing values in hellinikon dataset (2010-2019): \\n\\n\", hellinikon2.isnull().sum())"
   ]
  },
  {
   "cell_type": "markdown",
   "id": "39ef816c",
   "metadata": {},
   "source": [
    "We observe that for period 2010-2019, 102 values concerning precipitation are missing, while there are no missing values for average temperature.\n",
    "\n",
    "Given that there is available data for minimum and maximum temperatures, we could fill the average temperatures using the mean of the two values."
   ]
  },
  {
   "cell_type": "code",
   "execution_count": 30,
   "id": "85eff62a",
   "metadata": {},
   "outputs": [
    {
     "name": "stdout",
     "output_type": "stream",
     "text": [
      " \n",
      "Count of missing values in athens dataset: \n",
      "\n",
      " DATE    0\n",
      "TAVG    3\n",
      "TMAX    3\n",
      "TMIN    3\n",
      "PRCP    0\n",
      "dtype: int64\n"
     ]
    }
   ],
   "source": [
    "print(\" \\nCount of missing values in athens dataset: \\n\\n\", athens.isnull().sum())"
   ]
  },
  {
   "cell_type": "markdown",
   "id": "eb763896",
   "metadata": {},
   "source": [
    "The athens dataset has very few missing values, therefore it will be useful in filling the missing ones from the other dataset."
   ]
  },
  {
   "cell_type": "markdown",
   "id": "8b9de439",
   "metadata": {},
   "source": [
    "## Data completeness\n",
    "\n",
    "After the exploratory data analysis, we proceed to join the two datasets in order to fill in the missing dates and some of the missing values. Specifically, the missing values for precipitation (PRCP) from hellinikon dataset are replaced with the values from athens dataset and the missing values for average temperature (TAVG) are filled using the calculated average of maximum temperature (TMAX) and minimum temperature (TMIN) for the corresponding day."
   ]
  },
  {
   "cell_type": "code",
   "execution_count": 13,
   "id": "020eb5db",
   "metadata": {},
   "outputs": [
    {
     "data": {
      "text/html": [
       "<div>\n",
       "<style scoped>\n",
       "    .dataframe tbody tr th:only-of-type {\n",
       "        vertical-align: middle;\n",
       "    }\n",
       "\n",
       "    .dataframe tbody tr th {\n",
       "        vertical-align: top;\n",
       "    }\n",
       "\n",
       "    .dataframe thead th {\n",
       "        text-align: right;\n",
       "    }\n",
       "</style>\n",
       "<table border=\"1\" class=\"dataframe\">\n",
       "  <thead>\n",
       "    <tr style=\"text-align: right;\">\n",
       "      <th></th>\n",
       "      <th>DATE</th>\n",
       "      <th>PRCP_hel</th>\n",
       "      <th>TAVG_hel</th>\n",
       "      <th>TMAX_hel</th>\n",
       "      <th>TMIN_hel</th>\n",
       "      <th>TAVG_ath</th>\n",
       "      <th>TMAX_ath</th>\n",
       "      <th>TMIN_ath</th>\n",
       "      <th>PRCP_ath</th>\n",
       "    </tr>\n",
       "  </thead>\n",
       "  <tbody>\n",
       "    <tr>\n",
       "      <th>0</th>\n",
       "      <td>1955-01-01</td>\n",
       "      <td>0.0</td>\n",
       "      <td>NaN</td>\n",
       "      <td>18.5</td>\n",
       "      <td>10.2</td>\n",
       "      <td>NaN</td>\n",
       "      <td>NaN</td>\n",
       "      <td>NaN</td>\n",
       "      <td>NaN</td>\n",
       "    </tr>\n",
       "    <tr>\n",
       "      <th>1</th>\n",
       "      <td>1955-01-02</td>\n",
       "      <td>2.0</td>\n",
       "      <td>NaN</td>\n",
       "      <td>14.4</td>\n",
       "      <td>7.0</td>\n",
       "      <td>NaN</td>\n",
       "      <td>NaN</td>\n",
       "      <td>NaN</td>\n",
       "      <td>NaN</td>\n",
       "    </tr>\n",
       "    <tr>\n",
       "      <th>2</th>\n",
       "      <td>1955-01-03</td>\n",
       "      <td>0.0</td>\n",
       "      <td>NaN</td>\n",
       "      <td>15.8</td>\n",
       "      <td>9.6</td>\n",
       "      <td>NaN</td>\n",
       "      <td>NaN</td>\n",
       "      <td>NaN</td>\n",
       "      <td>NaN</td>\n",
       "    </tr>\n",
       "    <tr>\n",
       "      <th>3</th>\n",
       "      <td>1955-01-04</td>\n",
       "      <td>0.0</td>\n",
       "      <td>NaN</td>\n",
       "      <td>18.8</td>\n",
       "      <td>7.3</td>\n",
       "      <td>NaN</td>\n",
       "      <td>NaN</td>\n",
       "      <td>NaN</td>\n",
       "      <td>NaN</td>\n",
       "    </tr>\n",
       "    <tr>\n",
       "      <th>4</th>\n",
       "      <td>1955-01-05</td>\n",
       "      <td>0.0</td>\n",
       "      <td>NaN</td>\n",
       "      <td>17.9</td>\n",
       "      <td>8.4</td>\n",
       "      <td>NaN</td>\n",
       "      <td>NaN</td>\n",
       "      <td>NaN</td>\n",
       "      <td>NaN</td>\n",
       "    </tr>\n",
       "    <tr>\n",
       "      <th>...</th>\n",
       "      <td>...</td>\n",
       "      <td>...</td>\n",
       "      <td>...</td>\n",
       "      <td>...</td>\n",
       "      <td>...</td>\n",
       "      <td>...</td>\n",
       "      <td>...</td>\n",
       "      <td>...</td>\n",
       "      <td>...</td>\n",
       "    </tr>\n",
       "    <tr>\n",
       "      <th>23246</th>\n",
       "      <td>2020-12-27</td>\n",
       "      <td>0.0</td>\n",
       "      <td>16.6</td>\n",
       "      <td>NaN</td>\n",
       "      <td>NaN</td>\n",
       "      <td>NaN</td>\n",
       "      <td>NaN</td>\n",
       "      <td>NaN</td>\n",
       "      <td>NaN</td>\n",
       "    </tr>\n",
       "    <tr>\n",
       "      <th>23247</th>\n",
       "      <td>2020-12-28</td>\n",
       "      <td>6.6</td>\n",
       "      <td>14.8</td>\n",
       "      <td>18.2</td>\n",
       "      <td>11.9</td>\n",
       "      <td>NaN</td>\n",
       "      <td>NaN</td>\n",
       "      <td>NaN</td>\n",
       "      <td>NaN</td>\n",
       "    </tr>\n",
       "    <tr>\n",
       "      <th>23248</th>\n",
       "      <td>2020-12-29</td>\n",
       "      <td>0.0</td>\n",
       "      <td>16.3</td>\n",
       "      <td>19.9</td>\n",
       "      <td>12.5</td>\n",
       "      <td>NaN</td>\n",
       "      <td>NaN</td>\n",
       "      <td>NaN</td>\n",
       "      <td>NaN</td>\n",
       "    </tr>\n",
       "    <tr>\n",
       "      <th>23249</th>\n",
       "      <td>2020-12-30</td>\n",
       "      <td>0.0</td>\n",
       "      <td>16.4</td>\n",
       "      <td>19.9</td>\n",
       "      <td>14.8</td>\n",
       "      <td>NaN</td>\n",
       "      <td>NaN</td>\n",
       "      <td>NaN</td>\n",
       "      <td>NaN</td>\n",
       "    </tr>\n",
       "    <tr>\n",
       "      <th>23250</th>\n",
       "      <td>2020-12-31</td>\n",
       "      <td>0.0</td>\n",
       "      <td>15.4</td>\n",
       "      <td>18.2</td>\n",
       "      <td>NaN</td>\n",
       "      <td>NaN</td>\n",
       "      <td>NaN</td>\n",
       "      <td>NaN</td>\n",
       "      <td>NaN</td>\n",
       "    </tr>\n",
       "  </tbody>\n",
       "</table>\n",
       "<p>24104 rows × 9 columns</p>\n",
       "</div>"
      ],
      "text/plain": [
       "            DATE  PRCP_hel  TAVG_hel  TMAX_hel  TMIN_hel  TAVG_ath  TMAX_ath  \\\n",
       "0     1955-01-01       0.0       NaN      18.5      10.2       NaN       NaN   \n",
       "1     1955-01-02       2.0       NaN      14.4       7.0       NaN       NaN   \n",
       "2     1955-01-03       0.0       NaN      15.8       9.6       NaN       NaN   \n",
       "3     1955-01-04       0.0       NaN      18.8       7.3       NaN       NaN   \n",
       "4     1955-01-05       0.0       NaN      17.9       8.4       NaN       NaN   \n",
       "...          ...       ...       ...       ...       ...       ...       ...   \n",
       "23246 2020-12-27       0.0      16.6       NaN       NaN       NaN       NaN   \n",
       "23247 2020-12-28       6.6      14.8      18.2      11.9       NaN       NaN   \n",
       "23248 2020-12-29       0.0      16.3      19.9      12.5       NaN       NaN   \n",
       "23249 2020-12-30       0.0      16.4      19.9      14.8       NaN       NaN   \n",
       "23250 2020-12-31       0.0      15.4      18.2       NaN       NaN       NaN   \n",
       "\n",
       "       TMIN_ath  PRCP_ath  \n",
       "0           NaN       NaN  \n",
       "1           NaN       NaN  \n",
       "2           NaN       NaN  \n",
       "3           NaN       NaN  \n",
       "4           NaN       NaN  \n",
       "...         ...       ...  \n",
       "23246       NaN       NaN  \n",
       "23247       NaN       NaN  \n",
       "23248       NaN       NaN  \n",
       "23249       NaN       NaN  \n",
       "23250       NaN       NaN  \n",
       "\n",
       "[24104 rows x 9 columns]"
      ]
     },
     "execution_count": 13,
     "metadata": {},
     "output_type": "execute_result"
    }
   ],
   "source": [
    "# merge and sort by date\n",
    "complete = pd.merge(hellinikon, athens, how =\"outer\", on =\"DATE\", suffixes=('_hel', '_ath'))\n",
    "complete = complete.sort_values(by=[\"DATE\"])\n",
    "complete"
   ]
  },
  {
   "cell_type": "code",
   "execution_count": 14,
   "id": "40342c71",
   "metadata": {},
   "outputs": [
    {
     "data": {
      "text/html": [
       "<div>\n",
       "<style scoped>\n",
       "    .dataframe tbody tr th:only-of-type {\n",
       "        vertical-align: middle;\n",
       "    }\n",
       "\n",
       "    .dataframe tbody tr th {\n",
       "        vertical-align: top;\n",
       "    }\n",
       "\n",
       "    .dataframe thead th {\n",
       "        text-align: right;\n",
       "    }\n",
       "</style>\n",
       "<table border=\"1\" class=\"dataframe\">\n",
       "  <thead>\n",
       "    <tr style=\"text-align: right;\">\n",
       "      <th></th>\n",
       "      <th>DATE</th>\n",
       "      <th>PRCP_hel</th>\n",
       "      <th>TAVG_hel</th>\n",
       "      <th>TMAX_hel</th>\n",
       "      <th>TMIN_hel</th>\n",
       "      <th>TAVG_ath</th>\n",
       "      <th>TMAX_ath</th>\n",
       "      <th>TMIN_ath</th>\n",
       "      <th>PRCP_ath</th>\n",
       "    </tr>\n",
       "  </thead>\n",
       "  <tbody>\n",
       "    <tr>\n",
       "      <th>23457</th>\n",
       "      <td>2013-01-01</td>\n",
       "      <td>0.0</td>\n",
       "      <td>11.3</td>\n",
       "      <td>NaN</td>\n",
       "      <td>NaN</td>\n",
       "      <td>11.3</td>\n",
       "      <td>11.4</td>\n",
       "      <td>11.2</td>\n",
       "      <td>0.0</td>\n",
       "    </tr>\n",
       "    <tr>\n",
       "      <th>23458</th>\n",
       "      <td>2013-01-02</td>\n",
       "      <td>0.0</td>\n",
       "      <td>10.9</td>\n",
       "      <td>NaN</td>\n",
       "      <td>NaN</td>\n",
       "      <td>10.9</td>\n",
       "      <td>11.0</td>\n",
       "      <td>10.7</td>\n",
       "      <td>0.0</td>\n",
       "    </tr>\n",
       "    <tr>\n",
       "      <th>23459</th>\n",
       "      <td>2013-01-03</td>\n",
       "      <td>0.2</td>\n",
       "      <td>11.6</td>\n",
       "      <td>NaN</td>\n",
       "      <td>NaN</td>\n",
       "      <td>11.6</td>\n",
       "      <td>11.7</td>\n",
       "      <td>11.5</td>\n",
       "      <td>0.2</td>\n",
       "    </tr>\n",
       "    <tr>\n",
       "      <th>23460</th>\n",
       "      <td>2013-01-04</td>\n",
       "      <td>0.0</td>\n",
       "      <td>11.2</td>\n",
       "      <td>NaN</td>\n",
       "      <td>NaN</td>\n",
       "      <td>11.2</td>\n",
       "      <td>11.3</td>\n",
       "      <td>11.0</td>\n",
       "      <td>0.0</td>\n",
       "    </tr>\n",
       "    <tr>\n",
       "      <th>23461</th>\n",
       "      <td>2013-01-05</td>\n",
       "      <td>0.0</td>\n",
       "      <td>11.3</td>\n",
       "      <td>NaN</td>\n",
       "      <td>NaN</td>\n",
       "      <td>11.3</td>\n",
       "      <td>11.4</td>\n",
       "      <td>11.2</td>\n",
       "      <td>0.0</td>\n",
       "    </tr>\n",
       "  </tbody>\n",
       "</table>\n",
       "</div>"
      ],
      "text/plain": [
       "            DATE  PRCP_hel  TAVG_hel  TMAX_hel  TMIN_hel  TAVG_ath  TMAX_ath  \\\n",
       "23457 2013-01-01       0.0      11.3       NaN       NaN      11.3      11.4   \n",
       "23458 2013-01-02       0.0      10.9       NaN       NaN      10.9      11.0   \n",
       "23459 2013-01-03       0.2      11.6       NaN       NaN      11.6      11.7   \n",
       "23460 2013-01-04       0.0      11.2       NaN       NaN      11.2      11.3   \n",
       "23461 2013-01-05       0.0      11.3       NaN       NaN      11.3      11.4   \n",
       "\n",
       "       TMIN_ath  PRCP_ath  \n",
       "23457      11.2       0.0  \n",
       "23458      10.7       0.0  \n",
       "23459      11.5       0.2  \n",
       "23460      11.0       0.0  \n",
       "23461      11.2       0.0  "
      ]
     },
     "execution_count": 14,
     "metadata": {},
     "output_type": "execute_result"
    }
   ],
   "source": [
    "# fill NaN values from PRCP_hel using PRCP_ath\n",
    "complete['PRCP_hel'] = complete['PRCP_hel'].fillna(complete['PRCP_ath'])\n",
    "# fill NaN values from TAVG_hel using TAVG_ath\n",
    "complete['TAVG_hel'] = complete['TAVG_hel'].fillna(complete['TAVG_ath'])\n",
    "# check, for example, if missing values for year 2013 (which had the most NaNs) have been filled\n",
    "complete[complete['DATE'].dt.year.isin(range(2013, 2020))].head(5)"
   ]
  },
  {
   "cell_type": "code",
   "execution_count": 15,
   "id": "f7ef4fd7",
   "metadata": {},
   "outputs": [
    {
     "name": "stdout",
     "output_type": "stream",
     "text": [
      "\n",
      "Count of missing values in complete dataset: \n",
      "\n",
      " DATE            0\n",
      "PRCP_hel      376\n",
      "TAVG_hel     2312\n",
      "TMAX_hel     1797\n",
      "TMIN_hel     1686\n",
      "TAVG_ath    20455\n",
      "TMAX_ath    20455\n",
      "TMIN_ath    20455\n",
      "PRCP_ath    20452\n",
      "dtype: int64\n"
     ]
    }
   ],
   "source": [
    "# check if the 102 precipitation values have been filled (376 missing remaining)\n",
    "print(\"\\nCount of missing values in complete dataset: \\n\\n\", complete.isnull().sum())"
   ]
  },
  {
   "cell_type": "code",
   "execution_count": 16,
   "id": "20a372b4",
   "metadata": {},
   "outputs": [
    {
     "name": "stdout",
     "output_type": "stream",
     "text": [
      "\n",
      "Count of missing values in complete dataset (2010-2019): \n",
      "\n",
      " DATE           0\n",
      "PRCP_hel       0\n",
      "TAVG_hel       1\n",
      "TMAX_hel    1673\n",
      "TMIN_hel    1302\n",
      "TAVG_ath       3\n",
      "TMAX_ath       3\n",
      "TMIN_ath       3\n",
      "PRCP_ath       0\n",
      "dtype: int64\n"
     ]
    }
   ],
   "source": [
    "# check if average temperature for 2010-2019 has been filled\n",
    "c2 = complete.loc[(complete['DATE'] >= '2010-01-01') & (complete['DATE'] <= '2019-12-31')]\n",
    "print(\"\\nCount of missing values in complete dataset (2010-2019): \\n\\n\", c2.isnull().sum())"
   ]
  },
  {
   "cell_type": "code",
   "execution_count": 17,
   "id": "b76fe478",
   "metadata": {},
   "outputs": [
    {
     "data": {
      "text/html": [
       "<div>\n",
       "<style scoped>\n",
       "    .dataframe tbody tr th:only-of-type {\n",
       "        vertical-align: middle;\n",
       "    }\n",
       "\n",
       "    .dataframe tbody tr th {\n",
       "        vertical-align: top;\n",
       "    }\n",
       "\n",
       "    .dataframe thead th {\n",
       "        text-align: right;\n",
       "    }\n",
       "</style>\n",
       "<table border=\"1\" class=\"dataframe\">\n",
       "  <thead>\n",
       "    <tr style=\"text-align: right;\">\n",
       "      <th></th>\n",
       "      <th>DATE</th>\n",
       "      <th>PRCP_hel</th>\n",
       "      <th>TAVG_hel</th>\n",
       "      <th>TMAX_hel</th>\n",
       "      <th>TMIN_hel</th>\n",
       "      <th>TAVG_ath</th>\n",
       "      <th>TMAX_ath</th>\n",
       "      <th>TMIN_ath</th>\n",
       "      <th>PRCP_ath</th>\n",
       "    </tr>\n",
       "  </thead>\n",
       "  <tbody>\n",
       "    <tr>\n",
       "      <th>0</th>\n",
       "      <td>1955-01-01</td>\n",
       "      <td>0.0</td>\n",
       "      <td>14.35</td>\n",
       "      <td>18.5</td>\n",
       "      <td>10.2</td>\n",
       "      <td>NaN</td>\n",
       "      <td>NaN</td>\n",
       "      <td>NaN</td>\n",
       "      <td>NaN</td>\n",
       "    </tr>\n",
       "    <tr>\n",
       "      <th>1</th>\n",
       "      <td>1955-01-02</td>\n",
       "      <td>2.0</td>\n",
       "      <td>10.70</td>\n",
       "      <td>14.4</td>\n",
       "      <td>7.0</td>\n",
       "      <td>NaN</td>\n",
       "      <td>NaN</td>\n",
       "      <td>NaN</td>\n",
       "      <td>NaN</td>\n",
       "    </tr>\n",
       "    <tr>\n",
       "      <th>2</th>\n",
       "      <td>1955-01-03</td>\n",
       "      <td>0.0</td>\n",
       "      <td>12.70</td>\n",
       "      <td>15.8</td>\n",
       "      <td>9.6</td>\n",
       "      <td>NaN</td>\n",
       "      <td>NaN</td>\n",
       "      <td>NaN</td>\n",
       "      <td>NaN</td>\n",
       "    </tr>\n",
       "    <tr>\n",
       "      <th>3</th>\n",
       "      <td>1955-01-04</td>\n",
       "      <td>0.0</td>\n",
       "      <td>13.05</td>\n",
       "      <td>18.8</td>\n",
       "      <td>7.3</td>\n",
       "      <td>NaN</td>\n",
       "      <td>NaN</td>\n",
       "      <td>NaN</td>\n",
       "      <td>NaN</td>\n",
       "    </tr>\n",
       "    <tr>\n",
       "      <th>4</th>\n",
       "      <td>1955-01-05</td>\n",
       "      <td>0.0</td>\n",
       "      <td>13.15</td>\n",
       "      <td>17.9</td>\n",
       "      <td>8.4</td>\n",
       "      <td>NaN</td>\n",
       "      <td>NaN</td>\n",
       "      <td>NaN</td>\n",
       "      <td>NaN</td>\n",
       "    </tr>\n",
       "    <tr>\n",
       "      <th>...</th>\n",
       "      <td>...</td>\n",
       "      <td>...</td>\n",
       "      <td>...</td>\n",
       "      <td>...</td>\n",
       "      <td>...</td>\n",
       "      <td>...</td>\n",
       "      <td>...</td>\n",
       "      <td>...</td>\n",
       "      <td>...</td>\n",
       "    </tr>\n",
       "    <tr>\n",
       "      <th>23246</th>\n",
       "      <td>2020-12-27</td>\n",
       "      <td>0.0</td>\n",
       "      <td>16.60</td>\n",
       "      <td>NaN</td>\n",
       "      <td>NaN</td>\n",
       "      <td>NaN</td>\n",
       "      <td>NaN</td>\n",
       "      <td>NaN</td>\n",
       "      <td>NaN</td>\n",
       "    </tr>\n",
       "    <tr>\n",
       "      <th>23247</th>\n",
       "      <td>2020-12-28</td>\n",
       "      <td>6.6</td>\n",
       "      <td>14.80</td>\n",
       "      <td>18.2</td>\n",
       "      <td>11.9</td>\n",
       "      <td>NaN</td>\n",
       "      <td>NaN</td>\n",
       "      <td>NaN</td>\n",
       "      <td>NaN</td>\n",
       "    </tr>\n",
       "    <tr>\n",
       "      <th>23248</th>\n",
       "      <td>2020-12-29</td>\n",
       "      <td>0.0</td>\n",
       "      <td>16.30</td>\n",
       "      <td>19.9</td>\n",
       "      <td>12.5</td>\n",
       "      <td>NaN</td>\n",
       "      <td>NaN</td>\n",
       "      <td>NaN</td>\n",
       "      <td>NaN</td>\n",
       "    </tr>\n",
       "    <tr>\n",
       "      <th>23249</th>\n",
       "      <td>2020-12-30</td>\n",
       "      <td>0.0</td>\n",
       "      <td>16.40</td>\n",
       "      <td>19.9</td>\n",
       "      <td>14.8</td>\n",
       "      <td>NaN</td>\n",
       "      <td>NaN</td>\n",
       "      <td>NaN</td>\n",
       "      <td>NaN</td>\n",
       "    </tr>\n",
       "    <tr>\n",
       "      <th>23250</th>\n",
       "      <td>2020-12-31</td>\n",
       "      <td>0.0</td>\n",
       "      <td>15.40</td>\n",
       "      <td>18.2</td>\n",
       "      <td>NaN</td>\n",
       "      <td>NaN</td>\n",
       "      <td>NaN</td>\n",
       "      <td>NaN</td>\n",
       "      <td>NaN</td>\n",
       "    </tr>\n",
       "  </tbody>\n",
       "</table>\n",
       "<p>24104 rows × 9 columns</p>\n",
       "</div>"
      ],
      "text/plain": [
       "            DATE  PRCP_hel  TAVG_hel  TMAX_hel  TMIN_hel  TAVG_ath  TMAX_ath  \\\n",
       "0     1955-01-01       0.0     14.35      18.5      10.2       NaN       NaN   \n",
       "1     1955-01-02       2.0     10.70      14.4       7.0       NaN       NaN   \n",
       "2     1955-01-03       0.0     12.70      15.8       9.6       NaN       NaN   \n",
       "3     1955-01-04       0.0     13.05      18.8       7.3       NaN       NaN   \n",
       "4     1955-01-05       0.0     13.15      17.9       8.4       NaN       NaN   \n",
       "...          ...       ...       ...       ...       ...       ...       ...   \n",
       "23246 2020-12-27       0.0     16.60       NaN       NaN       NaN       NaN   \n",
       "23247 2020-12-28       6.6     14.80      18.2      11.9       NaN       NaN   \n",
       "23248 2020-12-29       0.0     16.30      19.9      12.5       NaN       NaN   \n",
       "23249 2020-12-30       0.0     16.40      19.9      14.8       NaN       NaN   \n",
       "23250 2020-12-31       0.0     15.40      18.2       NaN       NaN       NaN   \n",
       "\n",
       "       TMIN_ath  PRCP_ath  \n",
       "0           NaN       NaN  \n",
       "1           NaN       NaN  \n",
       "2           NaN       NaN  \n",
       "3           NaN       NaN  \n",
       "4           NaN       NaN  \n",
       "...         ...       ...  \n",
       "23246       NaN       NaN  \n",
       "23247       NaN       NaN  \n",
       "23248       NaN       NaN  \n",
       "23249       NaN       NaN  \n",
       "23250       NaN       NaN  \n",
       "\n",
       "[24104 rows x 9 columns]"
      ]
     },
     "execution_count": 17,
     "metadata": {},
     "output_type": "execute_result"
    }
   ],
   "source": [
    "# replace TAVG_hel with the average of TMIN_hel and TMAX_hel, when they are both not null\n",
    "for i in range(0,len(complete['TAVG_hel'])):\n",
    "    if (pd.notnull(complete['TAVG_hel'][i]) == False) and (pd.notnull(complete['TMIN_hel'][i]) and (pd.notnull(complete['TMAX_hel'][i]))):\n",
    "        complete.loc[i,['TAVG_hel']] = (complete['TMIN_hel'][i] + complete['TMAX_hel'][i])/2\n",
    "# check that they have been replaced\n",
    "complete"
   ]
  },
  {
   "cell_type": "code",
   "execution_count": 18,
   "id": "761c93d5",
   "metadata": {},
   "outputs": [
    {
     "data": {
      "text/html": [
       "<div>\n",
       "<style scoped>\n",
       "    .dataframe tbody tr th:only-of-type {\n",
       "        vertical-align: middle;\n",
       "    }\n",
       "\n",
       "    .dataframe tbody tr th {\n",
       "        vertical-align: top;\n",
       "    }\n",
       "\n",
       "    .dataframe thead th {\n",
       "        text-align: right;\n",
       "    }\n",
       "</style>\n",
       "<table border=\"1\" class=\"dataframe\">\n",
       "  <thead>\n",
       "    <tr style=\"text-align: right;\">\n",
       "      <th></th>\n",
       "      <th>DATE</th>\n",
       "      <th>PRCP</th>\n",
       "      <th>TAVG</th>\n",
       "    </tr>\n",
       "  </thead>\n",
       "  <tbody>\n",
       "    <tr>\n",
       "      <th>0</th>\n",
       "      <td>1955-01-01</td>\n",
       "      <td>0.0</td>\n",
       "      <td>14.35</td>\n",
       "    </tr>\n",
       "    <tr>\n",
       "      <th>1</th>\n",
       "      <td>1955-01-02</td>\n",
       "      <td>2.0</td>\n",
       "      <td>10.70</td>\n",
       "    </tr>\n",
       "    <tr>\n",
       "      <th>2</th>\n",
       "      <td>1955-01-03</td>\n",
       "      <td>0.0</td>\n",
       "      <td>12.70</td>\n",
       "    </tr>\n",
       "    <tr>\n",
       "      <th>3</th>\n",
       "      <td>1955-01-04</td>\n",
       "      <td>0.0</td>\n",
       "      <td>13.05</td>\n",
       "    </tr>\n",
       "    <tr>\n",
       "      <th>4</th>\n",
       "      <td>1955-01-05</td>\n",
       "      <td>0.0</td>\n",
       "      <td>13.15</td>\n",
       "    </tr>\n",
       "  </tbody>\n",
       "</table>\n",
       "</div>"
      ],
      "text/plain": [
       "        DATE  PRCP   TAVG\n",
       "0 1955-01-01   0.0  14.35\n",
       "1 1955-01-02   2.0  10.70\n",
       "2 1955-01-03   0.0  12.70\n",
       "3 1955-01-04   0.0  13.05\n",
       "4 1955-01-05   0.0  13.15"
      ]
     },
     "execution_count": 18,
     "metadata": {},
     "output_type": "execute_result"
    }
   ],
   "source": [
    "# create a new data frame with only the necessary columns\n",
    "final = complete[['DATE','PRCP_hel','TAVG_hel']].copy()\n",
    "final.rename(columns={'PRCP_hel': 'PRCP', 'TAVG_hel': 'TAVG'}, inplace=True)\n",
    "final.head()"
   ]
  },
  {
   "cell_type": "code",
   "execution_count": 19,
   "id": "737284bb",
   "metadata": {},
   "outputs": [
    {
     "name": "stdout",
     "output_type": "stream",
     "text": [
      "\n",
      "Count of missing values in final dataset: \n",
      "\n",
      " DATE      0\n",
      "PRCP    376\n",
      "TAVG      2\n",
      "dtype: int64\n"
     ]
    }
   ],
   "source": [
    "# check missing values again\n",
    "print(\"\\nCount of missing values in final dataset: \\n\\n\", final.isnull().sum())"
   ]
  },
  {
   "cell_type": "code",
   "execution_count": 20,
   "id": "76456b08",
   "metadata": {},
   "outputs": [
    {
     "name": "stdout",
     "output_type": "stream",
     "text": [
      "DatetimeIndex(['2006-01-31', '2006-02-03', '2007-08-28'], dtype='datetime64[ns]', freq=None)\n"
     ]
    }
   ],
   "source": [
    "# check missing dates again\n",
    "fin_ind = final.set_index('DATE')\n",
    "idx = pd.date_range(start='1955-01-01', end='2020-12-31').difference(fin_ind.index)\n",
    "print(idx)"
   ]
  },
  {
   "cell_type": "markdown",
   "id": "e33914f8",
   "metadata": {},
   "source": [
    "It is observed that missing dates and values are much fewer, therefore we can continue with the rest of the analysis."
   ]
  },
  {
   "cell_type": "markdown",
   "id": "58061dfb",
   "metadata": {},
   "source": [
    "## Deviation of Summer Temperatures\n",
    "\n",
    "The next section will focus on the summer temperatures. Specifically, the purpose is to find the mean summer temperature deviation from a baseline of 1974-1999 and depict it in a graph, along with a line representing the *10 year rolling average* of the deviation from the mean. \n",
    "* This graph is also available on the [report on extreme weather events for 2020](http://www.hnms.gr/emy/en/pdf/2020_GRsignificantEVENT_en.pdf), published by the Hellenic National Meteorological Service, using a baseline of 1971-2000."
   ]
  },
  {
   "cell_type": "markdown",
   "id": "f949f100",
   "metadata": {},
   "source": [
    "The first step is to create a new data frame by filtering the previous one by summer months, while grouping by year and calculating the mean temperature for each year."
   ]
  },
  {
   "cell_type": "code",
   "execution_count": 21,
   "id": "50f53a6e",
   "metadata": {},
   "outputs": [
    {
     "data": {
      "text/html": [
       "<div>\n",
       "<style scoped>\n",
       "    .dataframe tbody tr th:only-of-type {\n",
       "        vertical-align: middle;\n",
       "    }\n",
       "\n",
       "    .dataframe tbody tr th {\n",
       "        vertical-align: top;\n",
       "    }\n",
       "\n",
       "    .dataframe thead th {\n",
       "        text-align: right;\n",
       "    }\n",
       "</style>\n",
       "<table border=\"1\" class=\"dataframe\">\n",
       "  <thead>\n",
       "    <tr style=\"text-align: right;\">\n",
       "      <th></th>\n",
       "      <th>DATE</th>\n",
       "      <th>TAVG</th>\n",
       "    </tr>\n",
       "  </thead>\n",
       "  <tbody>\n",
       "    <tr>\n",
       "      <th>0</th>\n",
       "      <td>1955</td>\n",
       "      <td>25.951087</td>\n",
       "    </tr>\n",
       "    <tr>\n",
       "      <th>1</th>\n",
       "      <td>1956</td>\n",
       "      <td>27.143478</td>\n",
       "    </tr>\n",
       "    <tr>\n",
       "      <th>2</th>\n",
       "      <td>1957</td>\n",
       "      <td>27.371739</td>\n",
       "    </tr>\n",
       "    <tr>\n",
       "      <th>3</th>\n",
       "      <td>1958</td>\n",
       "      <td>27.081522</td>\n",
       "    </tr>\n",
       "    <tr>\n",
       "      <th>4</th>\n",
       "      <td>1959</td>\n",
       "      <td>26.401087</td>\n",
       "    </tr>\n",
       "    <tr>\n",
       "      <th>...</th>\n",
       "      <td>...</td>\n",
       "      <td>...</td>\n",
       "    </tr>\n",
       "    <tr>\n",
       "      <th>61</th>\n",
       "      <td>2016</td>\n",
       "      <td>28.154348</td>\n",
       "    </tr>\n",
       "    <tr>\n",
       "      <th>62</th>\n",
       "      <td>2017</td>\n",
       "      <td>28.088043</td>\n",
       "    </tr>\n",
       "    <tr>\n",
       "      <th>63</th>\n",
       "      <td>2018</td>\n",
       "      <td>27.436957</td>\n",
       "    </tr>\n",
       "    <tr>\n",
       "      <th>64</th>\n",
       "      <td>2019</td>\n",
       "      <td>28.034783</td>\n",
       "    </tr>\n",
       "    <tr>\n",
       "      <th>65</th>\n",
       "      <td>2020</td>\n",
       "      <td>27.380435</td>\n",
       "    </tr>\n",
       "  </tbody>\n",
       "</table>\n",
       "<p>66 rows × 2 columns</p>\n",
       "</div>"
      ],
      "text/plain": [
       "    DATE       TAVG\n",
       "0   1955  25.951087\n",
       "1   1956  27.143478\n",
       "2   1957  27.371739\n",
       "3   1958  27.081522\n",
       "4   1959  26.401087\n",
       "..   ...        ...\n",
       "61  2016  28.154348\n",
       "62  2017  28.088043\n",
       "63  2018  27.436957\n",
       "64  2019  28.034783\n",
       "65  2020  27.380435\n",
       "\n",
       "[66 rows x 2 columns]"
      ]
     },
     "execution_count": 21,
     "metadata": {},
     "output_type": "execute_result"
    }
   ],
   "source": [
    "summer_df = final.loc[(final['DATE'].dt.month.isin(range(6, 9))), ['DATE','TAVG']].groupby(final['DATE'].dt.year).mean().reset_index()\n",
    "\n",
    "summer_df"
   ]
  },
  {
   "cell_type": "markdown",
   "id": "249573d1",
   "metadata": {},
   "source": [
    "Subsequently, we find the baseline summer temperature and calculate the deviation from the baseline for each summer."
   ]
  },
  {
   "cell_type": "code",
   "execution_count": 22,
   "id": "87ac19c2",
   "metadata": {},
   "outputs": [
    {
     "name": "stdout",
     "output_type": "stream",
     "text": [
      "The mean temperature from our baseline (1974-1999) is 26.231 °C.\n"
     ]
    }
   ],
   "source": [
    "# calculate mean temperature from baseline (1974-1999)\n",
    "summer_df_base = summer_df.loc[summer_df['DATE'].isin(range(1974, 2000)),'TAVG'].mean()\n",
    "print('The mean temperature from our baseline (1974-1999) is', round(summer_df_base,3),\"°C.\")"
   ]
  },
  {
   "cell_type": "code",
   "execution_count": 23,
   "id": "f4098a88",
   "metadata": {},
   "outputs": [
    {
     "data": {
      "text/plain": [
       "0   -0.279640\n",
       "1    0.912751\n",
       "2    1.141012\n",
       "3    0.850794\n",
       "4    0.170360\n",
       "Name: DEV, dtype: float64"
      ]
     },
     "execution_count": 23,
     "metadata": {},
     "output_type": "execute_result"
    }
   ],
   "source": [
    "# calculate the deviation from the baseline for each summer\n",
    "summer_df['DEV'] = summer_df['TAVG'] - summer_df_base\n",
    "summer_df['DEV'].head()"
   ]
  },
  {
   "cell_type": "markdown",
   "id": "b745c9e2",
   "metadata": {},
   "source": [
    "We also calculate the 10 year rolling average of the deviations from the mean in order to add the corresponding line to the graph."
   ]
  },
  {
   "cell_type": "code",
   "execution_count": 24,
   "id": "db5b237c",
   "metadata": {},
   "outputs": [],
   "source": [
    "summer_df['ROLLING_AVG'] = summer_df['DEV'].rolling(10, min_periods=1).mean()"
   ]
  },
  {
   "cell_type": "markdown",
   "id": "4cbf53e7",
   "metadata": {},
   "source": [
    "### Plot\n",
    "\n",
    "Finally, we create the graph using:\n",
    "* A bar plot showing the deviations of the mean summer temperatures from the baseline mean of 1974-1999. We represent the years with mean summer temperature over the baseline with *orange* color and the years with mean summer temperature below it with *blue* color.\n",
    "* A line representing the *10 year rolling average* of the deviations from the mean summer temperatures."
   ]
  },
  {
   "cell_type": "code",
   "execution_count": 25,
   "id": "5c60d204",
   "metadata": {},
   "outputs": [
    {
     "data": {
      "image/png": "[encoded data removed]",
      "text/plain": [
       "<Figure size 1080x792 with 1 Axes>"
      ]
     },
     "metadata": {},
     "output_type": "display_data"
    }
   ],
   "source": [
    "plt.figure(figsize=(15, 11))\n",
    "plt.title(\"Mean Summer Temperature Difference from the 1974-1999 Mean\")\n",
    "plt.bar(summer_df['DATE'], summer_df['DEV'], color=['orange' if (x >=0) else 'blue' for x in summer_df['DEV']], \n",
    "        width=0.2, linewidth=1)\n",
    "plt.plot(summer_df['DATE'], summer_df['ROLLING_AVG'], color='mediumslateblue', linewidth=1);"
   ]
  },
  {
   "cell_type": "markdown",
   "id": "882e6fbf",
   "metadata": {},
   "source": [
    "### Interpretation\n",
    "\n",
    "It can be observed from the figure, that from 1955 to 1967, the average temperatures are higher than the baseline period mean. From 1968 to 1992, the average temperatures were lower than the baseline mean, while from 1993 and later until 2020, the temperatures are much higher, with 2012 being the warmest summer.\n",
    "This pattern is also confirmed by looking at the line of the 10 year rolling average of deviations from the mean."
   ]
  },
  {
   "cell_type": "markdown",
   "id": "9b86003e",
   "metadata": {},
   "source": [
    "## Evolution of Daily Temperatures\n",
    "\n",
    "The next section will focus on the evolution of daily temperatures for the full period from 1955 to 2020. The purpose is to create a plot showing the daily temperature for each year. The line corresponding to each year will be smoothed by using a *30 days rolling average*. On that plot we will also overlay a line showing the average daily temperature for the baseline period of 1974-1999."
   ]
  },
  {
   "cell_type": "markdown",
   "id": "4bbbe4b9",
   "metadata": {},
   "source": [
    "To begin with, we create a data frame containing the average temperatures for each day of the year during the baseline period (1974-1999), grouping by month-day date and calculating the mean."
   ]
  },
  {
   "cell_type": "code",
   "execution_count": 26,
   "id": "279ba172",
   "metadata": {},
   "outputs": [
    {
     "data": {
      "text/html": [
       "<div>\n",
       "<style scoped>\n",
       "    .dataframe tbody tr th:only-of-type {\n",
       "        vertical-align: middle;\n",
       "    }\n",
       "\n",
       "    .dataframe tbody tr th {\n",
       "        vertical-align: top;\n",
       "    }\n",
       "\n",
       "    .dataframe thead th {\n",
       "        text-align: right;\n",
       "    }\n",
       "</style>\n",
       "<table border=\"1\" class=\"dataframe\">\n",
       "  <thead>\n",
       "    <tr style=\"text-align: right;\">\n",
       "      <th></th>\n",
       "      <th>DAY</th>\n",
       "      <th>TAVG</th>\n",
       "    </tr>\n",
       "  </thead>\n",
       "  <tbody>\n",
       "    <tr>\n",
       "      <th>0</th>\n",
       "      <td>01-01</td>\n",
       "      <td>10.365385</td>\n",
       "    </tr>\n",
       "    <tr>\n",
       "      <th>1</th>\n",
       "      <td>01-02</td>\n",
       "      <td>10.707692</td>\n",
       "    </tr>\n",
       "    <tr>\n",
       "      <th>2</th>\n",
       "      <td>01-03</td>\n",
       "      <td>10.207692</td>\n",
       "    </tr>\n",
       "    <tr>\n",
       "      <th>3</th>\n",
       "      <td>01-04</td>\n",
       "      <td>9.634615</td>\n",
       "    </tr>\n",
       "    <tr>\n",
       "      <th>4</th>\n",
       "      <td>01-05</td>\n",
       "      <td>9.919231</td>\n",
       "    </tr>\n",
       "    <tr>\n",
       "      <th>...</th>\n",
       "      <td>...</td>\n",
       "      <td>...</td>\n",
       "    </tr>\n",
       "    <tr>\n",
       "      <th>361</th>\n",
       "      <td>12-27</td>\n",
       "      <td>9.769231</td>\n",
       "    </tr>\n",
       "    <tr>\n",
       "      <th>362</th>\n",
       "      <td>12-28</td>\n",
       "      <td>10.207692</td>\n",
       "    </tr>\n",
       "    <tr>\n",
       "      <th>363</th>\n",
       "      <td>12-29</td>\n",
       "      <td>10.776923</td>\n",
       "    </tr>\n",
       "    <tr>\n",
       "      <th>364</th>\n",
       "      <td>12-30</td>\n",
       "      <td>11.353846</td>\n",
       "    </tr>\n",
       "    <tr>\n",
       "      <th>365</th>\n",
       "      <td>12-31</td>\n",
       "      <td>11.007692</td>\n",
       "    </tr>\n",
       "  </tbody>\n",
       "</table>\n",
       "<p>366 rows × 2 columns</p>\n",
       "</div>"
      ],
      "text/plain": [
       "       DAY       TAVG\n",
       "0    01-01  10.365385\n",
       "1    01-02  10.707692\n",
       "2    01-03  10.207692\n",
       "3    01-04   9.634615\n",
       "4    01-05   9.919231\n",
       "..     ...        ...\n",
       "361  12-27   9.769231\n",
       "362  12-28  10.207692\n",
       "363  12-29  10.776923\n",
       "364  12-30  11.353846\n",
       "365  12-31  11.007692\n",
       "\n",
       "[366 rows x 2 columns]"
      ]
     },
     "execution_count": 26,
     "metadata": {},
     "output_type": "execute_result"
    }
   ],
   "source": [
    "final['YEAR'] = final['DATE'].dt.year\n",
    "final['DAY'] = final['DATE'].dt.strftime('%m-%d')\n",
    "final_daily = final.loc[(final['YEAR'].isin(range(1974, 2000))), ['DAY','TAVG']].groupby(final['DAY']).mean().reset_index()\n",
    "final_daily"
   ]
  },
  {
   "cell_type": "markdown",
   "id": "7ad8866a",
   "metadata": {},
   "source": [
    "We then calculate the 30 days rolling average of average daily temperatures for the baseline period."
   ]
  },
  {
   "cell_type": "code",
   "execution_count": 27,
   "id": "956ea68e",
   "metadata": {},
   "outputs": [],
   "source": [
    "final_daily['ROLLING_AVG'] = final_daily['TAVG'].rolling(30, min_periods=1).mean()"
   ]
  },
  {
   "cell_type": "markdown",
   "id": "d813e398",
   "metadata": {},
   "source": [
    "### Plot\n",
    "\n",
    "Lastly, the graph is plotted using:\n",
    "\n",
    "* Line charts depicting the daily temperature for each year, which are colored from *light orange* to *dark orange*, progressing through the years in ascending order.\n",
    "* Line chart showing the average daily temperature for the baseline period of 1974-1999, which is *black*.\n",
    "* The *30 days rolling average* to smooth the lines."
   ]
  },
  {
   "cell_type": "code",
   "execution_count": 47,
   "id": "ff89b8d7",
   "metadata": {},
   "outputs": [
    {
     "data": {
      "image/png": "[encoded data removed]",
      "text/plain": [
       "<Figure size 1080x504 with 1 Axes>"
      ]
     },
     "metadata": {},
     "output_type": "display_data"
    }
   ],
   "source": [
    "plt.figure(figsize=(15, 7))\n",
    "plt.title(\"Evolution of Daily Temperatures\")\n",
    "plt.xlabel(\"Date\")\n",
    "plt.ylabel(\"Average Daily Temperature\")\n",
    "sns.lineplot(x='DAY', y=final['TAVG'].rolling(30, min_periods=1).mean(), \n",
    "             data=final, hue=final['YEAR'], palette=\"Oranges\", linewidth=1)\n",
    "sns.lineplot(x='DAY', y='ROLLING_AVG', data=final_daily, color='black', linewidth=1.5)\n",
    "x = plt.gca().xaxis\n",
    "# ticks for months\n",
    "x.set_major_locator(mdates.MonthLocator())\n",
    "# names for months\n",
    "x.set_major_formatter(mdates.DateFormatter('%b'))"
   ]
  },
  {
   "cell_type": "markdown",
   "id": "08819152",
   "metadata": {},
   "source": [
    "### Interpretation\n",
    "\n",
    "By observing the line charts, we can assume that the temperatures follow a similar distribution through the year, with the highest temperatures being during summer and the lowest during winter. Specifically:\n",
    "* From January to March, the temperatures are low, having an average temperature of 10°C.\n",
    "* From April to mid-August, the temperatures increase, reaching an average temperature of 27°C.\n",
    "* From mid-August to December, the temperatures gradually decrease from 27°C to 12°C.\n",
    "\n",
    "Moreover, it can be seen that the temperatures tend to increase as the years pass, as the darker lines tend to be higher than the light orange ones. Especially in summer, the average temperatures in recent years have been significantly higher than the past, which could be explained by climate change.\n",
    "\n",
    "Finally, the deviations from the baseline (black line) are higher for recent years, which is also confirmed by the previous plot. "
   ]
  },
  {
   "cell_type": "markdown",
   "id": "f1df206e",
   "metadata": {},
   "source": [
    "## Extreme Temperature Events\n",
    "\n",
    "Another measure used by climatologists is the number of extreme events. Extreme events are defined as those beyond 5% or 10% from the expected value. \n",
    "\n",
    "This section will focus on extreme heat events going 10% above the baseline. The objective is to create a plot with the percentage of extreme heat events over the number of observations for each year. On that plot, we will overlay a line with the average percentage of extreme tempearture events of the baseline 1974-1999."
   ]
  },
  {
   "cell_type": "markdown",
   "id": "2e29ce8f",
   "metadata": {},
   "source": [
    "Initially, we join the full data frame with the data frame containing the average temperatures for each day of the year during the baseline period (1974-1999), based on day of year."
   ]
  },
  {
   "cell_type": "code",
   "execution_count": 30,
   "id": "f700a6bf",
   "metadata": {},
   "outputs": [
    {
     "data": {
      "text/html": [
       "<div>\n",
       "<style scoped>\n",
       "    .dataframe tbody tr th:only-of-type {\n",
       "        vertical-align: middle;\n",
       "    }\n",
       "\n",
       "    .dataframe tbody tr th {\n",
       "        vertical-align: top;\n",
       "    }\n",
       "\n",
       "    .dataframe thead th {\n",
       "        text-align: right;\n",
       "    }\n",
       "</style>\n",
       "<table border=\"1\" class=\"dataframe\">\n",
       "  <thead>\n",
       "    <tr style=\"text-align: right;\">\n",
       "      <th></th>\n",
       "      <th>DATE</th>\n",
       "      <th>PRCP</th>\n",
       "      <th>TAVG_x</th>\n",
       "      <th>YEAR</th>\n",
       "      <th>DAY</th>\n",
       "      <th>TAVG_y</th>\n",
       "      <th>ROLLING_AVG</th>\n",
       "    </tr>\n",
       "  </thead>\n",
       "  <tbody>\n",
       "    <tr>\n",
       "      <th>0</th>\n",
       "      <td>1955-01-01</td>\n",
       "      <td>0.0</td>\n",
       "      <td>14.35</td>\n",
       "      <td>1955</td>\n",
       "      <td>01-01</td>\n",
       "      <td>10.365385</td>\n",
       "      <td>10.365385</td>\n",
       "    </tr>\n",
       "    <tr>\n",
       "      <th>1</th>\n",
       "      <td>1955-01-02</td>\n",
       "      <td>2.0</td>\n",
       "      <td>10.70</td>\n",
       "      <td>1955</td>\n",
       "      <td>01-02</td>\n",
       "      <td>10.707692</td>\n",
       "      <td>10.536538</td>\n",
       "    </tr>\n",
       "    <tr>\n",
       "      <th>2</th>\n",
       "      <td>1955-01-03</td>\n",
       "      <td>0.0</td>\n",
       "      <td>12.70</td>\n",
       "      <td>1955</td>\n",
       "      <td>01-03</td>\n",
       "      <td>10.207692</td>\n",
       "      <td>10.426923</td>\n",
       "    </tr>\n",
       "    <tr>\n",
       "      <th>3</th>\n",
       "      <td>1955-01-04</td>\n",
       "      <td>0.0</td>\n",
       "      <td>13.05</td>\n",
       "      <td>1955</td>\n",
       "      <td>01-04</td>\n",
       "      <td>9.634615</td>\n",
       "      <td>10.228846</td>\n",
       "    </tr>\n",
       "    <tr>\n",
       "      <th>4</th>\n",
       "      <td>1955-01-05</td>\n",
       "      <td>0.0</td>\n",
       "      <td>13.15</td>\n",
       "      <td>1955</td>\n",
       "      <td>01-05</td>\n",
       "      <td>9.919231</td>\n",
       "      <td>10.166923</td>\n",
       "    </tr>\n",
       "  </tbody>\n",
       "</table>\n",
       "</div>"
      ],
      "text/plain": [
       "        DATE  PRCP  TAVG_x  YEAR    DAY     TAVG_y  ROLLING_AVG\n",
       "0 1955-01-01   0.0   14.35  1955  01-01  10.365385    10.365385\n",
       "1 1955-01-02   2.0   10.70  1955  01-02  10.707692    10.536538\n",
       "2 1955-01-03   0.0   12.70  1955  01-03  10.207692    10.426923\n",
       "3 1955-01-04   0.0   13.05  1955  01-04   9.634615    10.228846\n",
       "4 1955-01-05   0.0   13.15  1955  01-05   9.919231    10.166923"
      ]
     },
     "execution_count": 30,
     "metadata": {},
     "output_type": "execute_result"
    }
   ],
   "source": [
    "merged_df = pd.merge(final, final_daily, how='left', on='DAY')\n",
    "merged_df.head()"
   ]
  },
  {
   "cell_type": "markdown",
   "id": "4b5b2bdc",
   "metadata": {},
   "source": [
    "Subsequently, we create a new column which contains boolean values, *True* if this day was an extreme event (10% above the baseline), otherwise *False*, and we group by year, calculating the sum of extreme events and the number of observations for each year. We then add a column containing the percentages of extreme temperature events by year."
   ]
  },
  {
   "cell_type": "code",
   "execution_count": 31,
   "id": "58ce557c",
   "metadata": {
    "scrolled": false
   },
   "outputs": [
    {
     "data": {
      "text/html": [
       "<div>\n",
       "<style scoped>\n",
       "    .dataframe tbody tr th:only-of-type {\n",
       "        vertical-align: middle;\n",
       "    }\n",
       "\n",
       "    .dataframe tbody tr th {\n",
       "        vertical-align: top;\n",
       "    }\n",
       "\n",
       "    .dataframe thead th {\n",
       "        text-align: right;\n",
       "    }\n",
       "</style>\n",
       "<table border=\"1\" class=\"dataframe\">\n",
       "  <thead>\n",
       "    <tr style=\"text-align: right;\">\n",
       "      <th></th>\n",
       "      <th>YEAR</th>\n",
       "      <th>sum</th>\n",
       "      <th>count</th>\n",
       "      <th>percentage</th>\n",
       "    </tr>\n",
       "  </thead>\n",
       "  <tbody>\n",
       "    <tr>\n",
       "      <th>0</th>\n",
       "      <td>1955</td>\n",
       "      <td>128</td>\n",
       "      <td>365</td>\n",
       "      <td>0.350685</td>\n",
       "    </tr>\n",
       "    <tr>\n",
       "      <th>1</th>\n",
       "      <td>1956</td>\n",
       "      <td>113</td>\n",
       "      <td>366</td>\n",
       "      <td>0.308743</td>\n",
       "    </tr>\n",
       "    <tr>\n",
       "      <th>2</th>\n",
       "      <td>1957</td>\n",
       "      <td>116</td>\n",
       "      <td>365</td>\n",
       "      <td>0.317808</td>\n",
       "    </tr>\n",
       "    <tr>\n",
       "      <th>3</th>\n",
       "      <td>1958</td>\n",
       "      <td>130</td>\n",
       "      <td>365</td>\n",
       "      <td>0.356164</td>\n",
       "    </tr>\n",
       "    <tr>\n",
       "      <th>4</th>\n",
       "      <td>1959</td>\n",
       "      <td>96</td>\n",
       "      <td>365</td>\n",
       "      <td>0.263014</td>\n",
       "    </tr>\n",
       "    <tr>\n",
       "      <th>...</th>\n",
       "      <td>...</td>\n",
       "      <td>...</td>\n",
       "      <td>...</td>\n",
       "      <td>...</td>\n",
       "    </tr>\n",
       "    <tr>\n",
       "      <th>61</th>\n",
       "      <td>2016</td>\n",
       "      <td>159</td>\n",
       "      <td>366</td>\n",
       "      <td>0.434426</td>\n",
       "    </tr>\n",
       "    <tr>\n",
       "      <th>62</th>\n",
       "      <td>2017</td>\n",
       "      <td>170</td>\n",
       "      <td>365</td>\n",
       "      <td>0.465753</td>\n",
       "    </tr>\n",
       "    <tr>\n",
       "      <th>63</th>\n",
       "      <td>2018</td>\n",
       "      <td>173</td>\n",
       "      <td>365</td>\n",
       "      <td>0.473973</td>\n",
       "    </tr>\n",
       "    <tr>\n",
       "      <th>64</th>\n",
       "      <td>2019</td>\n",
       "      <td>163</td>\n",
       "      <td>365</td>\n",
       "      <td>0.446575</td>\n",
       "    </tr>\n",
       "    <tr>\n",
       "      <th>65</th>\n",
       "      <td>2020</td>\n",
       "      <td>168</td>\n",
       "      <td>366</td>\n",
       "      <td>0.459016</td>\n",
       "    </tr>\n",
       "  </tbody>\n",
       "</table>\n",
       "<p>66 rows × 4 columns</p>\n",
       "</div>"
      ],
      "text/plain": [
       "    YEAR  sum  count  percentage\n",
       "0   1955  128    365    0.350685\n",
       "1   1956  113    366    0.308743\n",
       "2   1957  116    365    0.317808\n",
       "3   1958  130    365    0.356164\n",
       "4   1959   96    365    0.263014\n",
       "..   ...  ...    ...         ...\n",
       "61  2016  159    366    0.434426\n",
       "62  2017  170    365    0.465753\n",
       "63  2018  173    365    0.473973\n",
       "64  2019  163    365    0.446575\n",
       "65  2020  168    366    0.459016\n",
       "\n",
       "[66 rows x 4 columns]"
      ]
     },
     "execution_count": 31,
     "metadata": {},
     "output_type": "execute_result"
    }
   ],
   "source": [
    "merged_df['EXTREME'] = (merged_df['TAVG_x'] > (1.1 * merged_df['TAVG_y']))\n",
    "extreme_df = merged_df.groupby('YEAR')['EXTREME'].agg(['sum','count']).reset_index()\n",
    "extreme_df['percentage'] = extreme_df['sum'] / extreme_df['count']\n",
    "extreme_df"
   ]
  },
  {
   "cell_type": "markdown",
   "id": "5b7cd3b4",
   "metadata": {},
   "source": [
    "Furthermore, we calculate the mean percentage of extreme temperature events for the baseline period 1974-1999."
   ]
  },
  {
   "cell_type": "code",
   "execution_count": 32,
   "id": "e1b1e6a1",
   "metadata": {},
   "outputs": [
    {
     "name": "stdout",
     "output_type": "stream",
     "text": [
      "The mean percentage of extreme temperature events for the baseline period (1974-1999) is 24.8 %.\n"
     ]
    }
   ],
   "source": [
    "base_mean = extreme_df.loc[extreme_df['YEAR'].isin(range(1974, 2000)), 'percentage'].mean()\n",
    "print('The mean percentage of extreme temperature events for the baseline period (1974-1999) is', round(base_mean,3)*100,\"%.\")"
   ]
  },
  {
   "cell_type": "markdown",
   "id": "738aae9f",
   "metadata": {},
   "source": [
    "### Plot\n",
    "\n",
    "Finally, the graph is plotted using:\n",
    "* A bar chart representing the percentage of extreme heat events over the number of observations for each year. The bars are colored *blue* when the percentage is below the mean percentage of extreme tempearture events for the baseline period and *orange* when it is equal or above.\n",
    "* A *gray* line representing the mean percentage of extreme tempearture events for the baseline period."
   ]
  },
  {
   "cell_type": "code",
   "execution_count": 46,
   "id": "c89b8e4d",
   "metadata": {},
   "outputs": [
    {
     "data": {
      "image/png": "[encoded data removed]",
      "text/plain": [
       "<Figure size 1080x792 with 1 Axes>"
      ]
     },
     "metadata": {},
     "output_type": "display_data"
    }
   ],
   "source": [
    "plt.figure(figsize=(15, 11))\n",
    "ax = plt.subplot()\n",
    "plt.title(\"Extreme temperature events compared to the baseline of 1974-1999\")\n",
    "plt.ylabel(\"Percentage of extreme events\")\n",
    "plt.xlabel(\"Year\")\n",
    "colors=np.where(extreme_df['percentage'] >= base_mean, 'darkorange','blue')\n",
    "plt.bar(extreme_df['YEAR'], extreme_df['percentage'], color = colors, width=0.15)\n",
    "plt.axhline(base_mean, color=\"grey\")\n",
    "plt.axhline(xmin=0.045, xmax=0.955, color='grey')\n",
    "ax.set_ylim(bottom=-0.03);"
   ]
  },
  {
   "cell_type": "markdown",
   "id": "63990c46",
   "metadata": {},
   "source": [
    "### Interpretation\n",
    "\n",
    "It can be observed from the figure that from 1955 to 1970 the percentage of extreme heat events was for almost every year higher than the baseline period mean percentage. After 1970 and until 1993, the extreme heat events were fewer than those of the baseline period, while from 1994 and later until 2020, the extreme events were much more, with 2012 being the year with the highest precentage of extreme heat events on record. \n",
    "\n",
    "The results also confirm the findings on the first graph and could be explained by the increasing global warming."
   ]
  },
  {
   "cell_type": "markdown",
   "id": "0619c776",
   "metadata": {},
   "source": [
    "## Precipitation\n",
    "\n",
    "Continuing the thread on extreme events, another consideration is rainfall. In this section, we are interested in finding whether precipication becomes more intense over time. Our goal is to create a plot showing the ratio of rainfall over rainy days over the years. On the plot, we will overlay the *10 year rolling average*.\n",
    "\n",
    "To see that, we initially calculate the yearly rainfall and count the rainy days in each year. Then, by dividing the rainfall by the number of rainy days, we get an indication of whether we are getting rain in more concentrated bursts. "
   ]
  },
  {
   "cell_type": "code",
   "execution_count": 37,
   "id": "eabaacd6",
   "metadata": {},
   "outputs": [
    {
     "data": {
      "text/html": [
       "<div>\n",
       "<style scoped>\n",
       "    .dataframe tbody tr th:only-of-type {\n",
       "        vertical-align: middle;\n",
       "    }\n",
       "\n",
       "    .dataframe tbody tr th {\n",
       "        vertical-align: top;\n",
       "    }\n",
       "\n",
       "    .dataframe thead th {\n",
       "        text-align: right;\n",
       "    }\n",
       "</style>\n",
       "<table border=\"1\" class=\"dataframe\">\n",
       "  <thead>\n",
       "    <tr style=\"text-align: right;\">\n",
       "      <th></th>\n",
       "      <th>DATE</th>\n",
       "      <th>PRCP</th>\n",
       "      <th>YEAR</th>\n",
       "    </tr>\n",
       "  </thead>\n",
       "  <tbody>\n",
       "    <tr>\n",
       "      <th>0</th>\n",
       "      <td>1955-01-01</td>\n",
       "      <td>0.0</td>\n",
       "      <td>1955</td>\n",
       "    </tr>\n",
       "    <tr>\n",
       "      <th>1</th>\n",
       "      <td>1955-01-02</td>\n",
       "      <td>2.0</td>\n",
       "      <td>1955</td>\n",
       "    </tr>\n",
       "    <tr>\n",
       "      <th>2</th>\n",
       "      <td>1955-01-03</td>\n",
       "      <td>0.0</td>\n",
       "      <td>1955</td>\n",
       "    </tr>\n",
       "    <tr>\n",
       "      <th>3</th>\n",
       "      <td>1955-01-04</td>\n",
       "      <td>0.0</td>\n",
       "      <td>1955</td>\n",
       "    </tr>\n",
       "    <tr>\n",
       "      <th>4</th>\n",
       "      <td>1955-01-05</td>\n",
       "      <td>0.0</td>\n",
       "      <td>1955</td>\n",
       "    </tr>\n",
       "  </tbody>\n",
       "</table>\n",
       "</div>"
      ],
      "text/plain": [
       "        DATE  PRCP  YEAR\n",
       "0 1955-01-01   0.0  1955\n",
       "1 1955-01-02   2.0  1955\n",
       "2 1955-01-03   0.0  1955\n",
       "3 1955-01-04   0.0  1955\n",
       "4 1955-01-05   0.0  1955"
      ]
     },
     "execution_count": 37,
     "metadata": {},
     "output_type": "execute_result"
    }
   ],
   "source": [
    "prcp_df = final[['DATE','PRCP','YEAR']]\n",
    "prcp_df.head()"
   ]
  },
  {
   "cell_type": "code",
   "execution_count": 38,
   "id": "b116f6c0",
   "metadata": {},
   "outputs": [
    {
     "data": {
      "text/html": [
       "<div>\n",
       "<style scoped>\n",
       "    .dataframe tbody tr th:only-of-type {\n",
       "        vertical-align: middle;\n",
       "    }\n",
       "\n",
       "    .dataframe tbody tr th {\n",
       "        vertical-align: top;\n",
       "    }\n",
       "\n",
       "    .dataframe thead th {\n",
       "        text-align: right;\n",
       "    }\n",
       "</style>\n",
       "<table border=\"1\" class=\"dataframe\">\n",
       "  <thead>\n",
       "    <tr style=\"text-align: right;\">\n",
       "      <th></th>\n",
       "      <th>PRCP</th>\n",
       "    </tr>\n",
       "    <tr>\n",
       "      <th>YEAR</th>\n",
       "      <th></th>\n",
       "    </tr>\n",
       "  </thead>\n",
       "  <tbody>\n",
       "    <tr>\n",
       "      <th>1955</th>\n",
       "      <td>547.0</td>\n",
       "    </tr>\n",
       "    <tr>\n",
       "      <th>1956</th>\n",
       "      <td>281.3</td>\n",
       "    </tr>\n",
       "    <tr>\n",
       "      <th>1957</th>\n",
       "      <td>303.2</td>\n",
       "    </tr>\n",
       "    <tr>\n",
       "      <th>1958</th>\n",
       "      <td>350.0</td>\n",
       "    </tr>\n",
       "    <tr>\n",
       "      <th>1959</th>\n",
       "      <td>214.0</td>\n",
       "    </tr>\n",
       "    <tr>\n",
       "      <th>...</th>\n",
       "      <td>...</td>\n",
       "    </tr>\n",
       "    <tr>\n",
       "      <th>2016</th>\n",
       "      <td>261.6</td>\n",
       "    </tr>\n",
       "    <tr>\n",
       "      <th>2017</th>\n",
       "      <td>304.3</td>\n",
       "    </tr>\n",
       "    <tr>\n",
       "      <th>2018</th>\n",
       "      <td>380.2</td>\n",
       "    </tr>\n",
       "    <tr>\n",
       "      <th>2019</th>\n",
       "      <td>570.0</td>\n",
       "    </tr>\n",
       "    <tr>\n",
       "      <th>2020</th>\n",
       "      <td>210.4</td>\n",
       "    </tr>\n",
       "  </tbody>\n",
       "</table>\n",
       "<p>66 rows × 1 columns</p>\n",
       "</div>"
      ],
      "text/plain": [
       "       PRCP\n",
       "YEAR       \n",
       "1955  547.0\n",
       "1956  281.3\n",
       "1957  303.2\n",
       "1958  350.0\n",
       "1959  214.0\n",
       "...     ...\n",
       "2016  261.6\n",
       "2017  304.3\n",
       "2018  380.2\n",
       "2019  570.0\n",
       "2020  210.4\n",
       "\n",
       "[66 rows x 1 columns]"
      ]
     },
     "execution_count": 38,
     "metadata": {},
     "output_type": "execute_result"
    }
   ],
   "source": [
    "# sum precipitation values for each year to find yearly rainfall\n",
    "rainfall = prcp_df.groupby('YEAR').sum()\n",
    "rainfall"
   ]
  },
  {
   "cell_type": "code",
   "execution_count": 39,
   "id": "84199546",
   "metadata": {},
   "outputs": [
    {
     "data": {
      "text/html": [
       "<div>\n",
       "<style scoped>\n",
       "    .dataframe tbody tr th:only-of-type {\n",
       "        vertical-align: middle;\n",
       "    }\n",
       "\n",
       "    .dataframe tbody tr th {\n",
       "        vertical-align: top;\n",
       "    }\n",
       "\n",
       "    .dataframe thead th {\n",
       "        text-align: right;\n",
       "    }\n",
       "</style>\n",
       "<table border=\"1\" class=\"dataframe\">\n",
       "  <thead>\n",
       "    <tr style=\"text-align: right;\">\n",
       "      <th></th>\n",
       "      <th>DATE</th>\n",
       "      <th>PRCP</th>\n",
       "    </tr>\n",
       "    <tr>\n",
       "      <th>YEAR</th>\n",
       "      <th></th>\n",
       "      <th></th>\n",
       "    </tr>\n",
       "  </thead>\n",
       "  <tbody>\n",
       "    <tr>\n",
       "      <th>1955</th>\n",
       "      <td>365</td>\n",
       "      <td>68</td>\n",
       "    </tr>\n",
       "    <tr>\n",
       "      <th>1956</th>\n",
       "      <td>366</td>\n",
       "      <td>52</td>\n",
       "    </tr>\n",
       "    <tr>\n",
       "      <th>1957</th>\n",
       "      <td>365</td>\n",
       "      <td>73</td>\n",
       "    </tr>\n",
       "    <tr>\n",
       "      <th>1958</th>\n",
       "      <td>365</td>\n",
       "      <td>68</td>\n",
       "    </tr>\n",
       "    <tr>\n",
       "      <th>1959</th>\n",
       "      <td>365</td>\n",
       "      <td>62</td>\n",
       "    </tr>\n",
       "    <tr>\n",
       "      <th>...</th>\n",
       "      <td>...</td>\n",
       "      <td>...</td>\n",
       "    </tr>\n",
       "    <tr>\n",
       "      <th>2016</th>\n",
       "      <td>366</td>\n",
       "      <td>42</td>\n",
       "    </tr>\n",
       "    <tr>\n",
       "      <th>2017</th>\n",
       "      <td>365</td>\n",
       "      <td>48</td>\n",
       "    </tr>\n",
       "    <tr>\n",
       "      <th>2018</th>\n",
       "      <td>365</td>\n",
       "      <td>55</td>\n",
       "    </tr>\n",
       "    <tr>\n",
       "      <th>2019</th>\n",
       "      <td>365</td>\n",
       "      <td>58</td>\n",
       "    </tr>\n",
       "    <tr>\n",
       "      <th>2020</th>\n",
       "      <td>366</td>\n",
       "      <td>38</td>\n",
       "    </tr>\n",
       "  </tbody>\n",
       "</table>\n",
       "<p>66 rows × 2 columns</p>\n",
       "</div>"
      ],
      "text/plain": [
       "      DATE  PRCP\n",
       "YEAR            \n",
       "1955   365    68\n",
       "1956   366    52\n",
       "1957   365    73\n",
       "1958   365    68\n",
       "1959   365    62\n",
       "...    ...   ...\n",
       "2016   366    42\n",
       "2017   365    48\n",
       "2018   365    55\n",
       "2019   365    58\n",
       "2020   366    38\n",
       "\n",
       "[66 rows x 2 columns]"
      ]
     },
     "execution_count": 39,
     "metadata": {},
     "output_type": "execute_result"
    }
   ],
   "source": [
    "# count the rainy days by replacing 0 with NaN for days with 0 precipitation in order to be excluded from count\n",
    "rainy_days = prcp_df.replace(0, np.nan).groupby('YEAR').count()\n",
    "rainy_days"
   ]
  },
  {
   "cell_type": "code",
   "execution_count": 40,
   "id": "21f3ef66",
   "metadata": {},
   "outputs": [
    {
     "data": {
      "text/plain": [
       "YEAR\n",
       "1955    8.044118\n",
       "1956    5.409615\n",
       "1957    4.153425\n",
       "1958    5.147059\n",
       "1959    3.451613\n",
       "          ...   \n",
       "2016    6.228571\n",
       "2017    6.339583\n",
       "2018    6.912727\n",
       "2019    9.827586\n",
       "2020    5.536842\n",
       "Name: PRCP, Length: 66, dtype: float64"
      ]
     },
     "execution_count": 40,
     "metadata": {},
     "output_type": "execute_result"
    }
   ],
   "source": [
    "# divide the rainfall by the rainy days, in order to find the rain ratio for each year\n",
    "ratio = rainfall['PRCP'] / rainy_days['PRCP']\n",
    "ratio"
   ]
  },
  {
   "cell_type": "markdown",
   "id": "acab90bb",
   "metadata": {},
   "source": [
    "We also calculate the 10 year rolling average for rainfall over rainy days ratio in order to add it to our plot."
   ]
  },
  {
   "cell_type": "code",
   "execution_count": 41,
   "id": "cdb911ed",
   "metadata": {},
   "outputs": [],
   "source": [
    "rolling_avg = ratio.rolling(window=10,min_periods=1).mean()"
   ]
  },
  {
   "cell_type": "markdown",
   "id": "9cb315d3",
   "metadata": {},
   "source": [
    "### Plot\n",
    "\n",
    "Lastly, we plot the graph using:\n",
    "* A bar chart representing the overall rainfall over rainy days over the years.\n",
    "* A line chart depicting the *10 year rolling average* for the rainfall over rainy days ratio."
   ]
  },
  {
   "cell_type": "code",
   "execution_count": 45,
   "id": "45c76612",
   "metadata": {},
   "outputs": [
    {
     "data": {
      "image/png": "[encoded data removed]",
      "text/plain": [
       "<Figure size 1008x792 with 1 Axes>"
      ]
     },
     "metadata": {},
     "output_type": "display_data"
    }
   ],
   "source": [
    "plt.figure(figsize=(14, 11))\n",
    "ax = plt.subplot()\n",
    "plt.title(\"Rainfall over rainy days ratio\")\n",
    "plt.ylabel(\"Rainfall over rainy days ratio\")\n",
    "plt.xlabel(\"Year\")\n",
    "plt.bar(ratio.index, ratio.values, width=0.2, color='blue')\n",
    "rolling_avg.plot(color='steelblue')\n",
    "plt.axhline(xmin=0.045, xmax=0.955, color='grey')\n",
    "ax.set_ylim(bottom=-0.8);"
   ]
  },
  {
   "cell_type": "markdown",
   "id": "236ce9bd",
   "metadata": {},
   "source": [
    "### Interpretation\n",
    "\n",
    "By observing at the figure, we notice that, over the years, the rain ratio has many fluctuations but gradually increases. Especially, in 2005, there were the heaviest rainfalls recorded. This can also be confirmed by the 10 year rolling average for the rainfall over rainy days ratio, which is slowly increasing.  "
   ]
  },
  {
   "cell_type": "markdown",
   "id": "f13af8c3",
   "metadata": {},
   "source": [
    "## Conclusion\n",
    "\n",
    "It can be concluded from the analysis on Athens weather, that in recent years due to climate change and global warming, the weather has become more extreme, the temperatures have increased and we observe more heat waves and heavy rainfalls than in the past. Therefore, action should be taken in order to reduce environmental damage."
   ]
  }
 ],
 "metadata": {
  "kernelspec": {
   "display_name": "Python 3",
   "language": "python",
   "name": "python3"
  },
  "language_info": {
   "codemirror_mode": {
    "name": "ipython",
    "version": 3
   },
   "file_extension": ".py",
   "mimetype": "text/x-python",
   "name": "python",
   "nbconvert_exporter": "python",
   "pygments_lexer": "ipython3",
   "version": "3.8.8"
  }
 },
 "nbformat": 4,
 "nbformat_minor": 5
}
