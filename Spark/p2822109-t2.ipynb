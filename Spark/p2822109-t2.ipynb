{
 "cells": [
  {
   "cell_type": "markdown",
   "id": "cd3e7424",
   "metadata": {},
   "source": [
    "# Spark Assignment\n",
    "---\n",
    "\n",
    "> *Name:* Panagiota Gkourioti <br />\n",
    "> *Student ID:* p2822109 <br />\n",
    "> *Course:* Big Data Systems and Architectures <br />\n",
    "> *Professor:* Thanasis Vergoulis <br />\n",
    "\n",
    "> Department of Management Science and Technology <br />\n",
    "> Athens University of Economics and Business <br />\n",
    "\n",
    "## Task 2\n",
    "\n",
    "For this task, we will create a Jupyter notebook, using PySpark and Dataframes, that delivers the following:\n",
    "- It returns the “book_id” and “title” of the book with the largest “average_rating” that its title starts with the *first* letter of my last name.\n",
    "- It returns the average “average_rating” of the books that their title starts with the *second* letter of my last name.\n",
    "- It returns the “book_id” and “title” of the Paperback book with the most pages, when only books with title starting with the *third* letter of my last name are considered. "
   ]
  },
  {
   "cell_type": "code",
   "execution_count": 1,
   "id": "7c803671",
   "metadata": {},
   "outputs": [],
   "source": [
    "# import packages\n",
    "import findspark\n",
    "# findspark.init('C:\\spark\\spark-3.2.1-bin-hadoop3.2') for local installation of spark\n",
    "from pyspark.sql.session import SparkSession\n",
    "from pyspark.sql.session import SparkSession\n",
    "from pyspark.context import SparkContext\n",
    "sc = SparkContext.getOrCreate()\n",
    "spark = SparkSession(sc)\n",
    "import pyspark.sql.types as T\n",
    "import pyspark.sql.functions as F "
   ]
  },
  {
   "cell_type": "code",
   "execution_count": 2,
   "id": "731e0d13",
   "metadata": {},
   "outputs": [],
   "source": [
    "# load the data \n",
    "books = spark.read.json(\"books_5000.json\")"
   ]
  },
  {
   "cell_type": "code",
   "execution_count": 3,
   "id": "55014cbc",
   "metadata": {},
   "outputs": [
    {
     "name": "stdout",
     "output_type": "stream",
     "text": [
      "root\n",
      " |-- asin: string (nullable = true)\n",
      " |-- authors: array (nullable = true)\n",
      " |    |-- element: struct (containsNull = true)\n",
      " |    |    |-- author_id: string (nullable = true)\n",
      " |    |    |-- role: string (nullable = true)\n",
      " |-- average_rating: string (nullable = true)\n",
      " |-- book_id: string (nullable = true)\n",
      " |-- country_code: string (nullable = true)\n",
      " |-- description: string (nullable = true)\n",
      " |-- edition_information: string (nullable = true)\n",
      " |-- format: string (nullable = true)\n",
      " |-- image_url: string (nullable = true)\n",
      " |-- is_ebook: string (nullable = true)\n",
      " |-- isbn: string (nullable = true)\n",
      " |-- isbn13: string (nullable = true)\n",
      " |-- kindle_asin: string (nullable = true)\n",
      " |-- language_code: string (nullable = true)\n",
      " |-- link: string (nullable = true)\n",
      " |-- num_pages: string (nullable = true)\n",
      " |-- popular_shelves: array (nullable = true)\n",
      " |    |-- element: struct (containsNull = true)\n",
      " |    |    |-- count: string (nullable = true)\n",
      " |    |    |-- name: string (nullable = true)\n",
      " |-- publication_day: string (nullable = true)\n",
      " |-- publication_month: string (nullable = true)\n",
      " |-- publication_year: string (nullable = true)\n",
      " |-- publisher: string (nullable = true)\n",
      " |-- ratings_count: string (nullable = true)\n",
      " |-- series: array (nullable = true)\n",
      " |    |-- element: string (containsNull = true)\n",
      " |-- similar_books: array (nullable = true)\n",
      " |    |-- element: string (containsNull = true)\n",
      " |-- text_reviews_count: string (nullable = true)\n",
      " |-- title: string (nullable = true)\n",
      " |-- title_without_series: string (nullable = true)\n",
      " |-- url: string (nullable = true)\n",
      " |-- work_id: string (nullable = true)\n",
      "\n"
     ]
    }
   ],
   "source": [
    "# check the schema and data types\n",
    "books.printSchema()"
   ]
  },
  {
   "cell_type": "code",
   "execution_count": 4,
   "id": "d1101382",
   "metadata": {},
   "outputs": [],
   "source": [
    "# convert num_pages from string type to integer\n",
    "from pyspark.sql.types import IntegerType\n",
    "books = books.withColumn(\"num_pages\", books[\"num_pages\"].cast(IntegerType()))"
   ]
  },
  {
   "cell_type": "code",
   "execution_count": 17,
   "id": "f854ac2d",
   "metadata": {},
   "outputs": [
    {
     "name": "stdout",
     "output_type": "stream",
     "text": [
      "The book with the largest “average rating” that its title starts with \"G\" has 2513980 ID number and its title is Gary Panter\n"
     ]
    }
   ],
   "source": [
    "# select book ID, title and average rating from books data frame\n",
    "# filter books based on title starting with G\n",
    "# sort them by average rating in descending order and \n",
    "# extract the first book's ID number and title\n",
    "b1 = books.select('book_id','title','average_rating')\\\n",
    ".filter(\"title like 'G%'\").orderBy('average_rating', ascending = False).first()[0:2]\n",
    "print('The book with the largest “average rating” that its title starts with \"G\" has', \n",
    "      b1[0],'ID number and its title is',b1[1]) "
   ]
  },
  {
   "cell_type": "code",
   "execution_count": 16,
   "id": "7506f9e9",
   "metadata": {},
   "outputs": [
    {
     "name": "stdout",
     "output_type": "stream",
     "text": [
      "The average “average rating” of the books that their title starts with \"K\" is 3.95\n"
     ]
    }
   ],
   "source": [
    "# select title and average rating from books data frame\n",
    "# filter books based on title starting with K\n",
    "# calculate the average \"average rating\" of the books\n",
    "b2 = books.select('title','average_rating').filter(\"title like 'K%'\").agg({'average_rating': 'avg'})\n",
    "print('The average “average rating” of the books that their title starts with \"K\" is', round(b2.first()[0],2)) "
   ]
  },
  {
   "cell_type": "code",
   "execution_count": 18,
   "id": "0a8c2114",
   "metadata": {},
   "outputs": [
    {
     "name": "stdout",
     "output_type": "stream",
     "text": [
      "The Paperback book with the most pages, that its title starts with \"O\" has 21411974 ID number and its title is One Piece: Skypeia 28-29-30, Vol. 10 (One Piece: Omnibus, #10)\n"
     ]
    }
   ],
   "source": [
    "# select book ID, title and average rating from books data frame\n",
    "# select only books with Paperback format\n",
    "# filter books based on title starting with O\n",
    "# sort them by number of pages in descending order and \n",
    "# extract the first book's ID number and title\n",
    "b3 = books.select('book_id','title','num_pages').where(books.format=='Paperback').filter(\"title like 'O%'\")\\\n",
    ".orderBy('num_pages',ascending = False).first()[0:2]\n",
    "print('The Paperback book with the most pages, that its title starts with \"O\" has', b3[0],\n",
    "      'ID number and its title is', b3[1]) "
   ]
  },
  {
   "cell_type": "code",
   "execution_count": null,
   "id": "95e1acd7",
   "metadata": {},
   "outputs": [],
   "source": []
  }
 ],
 "metadata": {
  "kernelspec": {
   "display_name": "Python 3 (ipykernel)",
   "language": "python",
   "name": "python3"
  },
  "language_info": {
   "codemirror_mode": {
    "name": "ipython",
    "version": 3
   },
   "file_extension": ".py",
   "mimetype": "text/x-python",
   "name": "python",
   "nbconvert_exporter": "python",
   "pygments_lexer": "ipython3",
   "version": "3.9.12"
  }
 },
 "nbformat": 4,
 "nbformat_minor": 5
}
