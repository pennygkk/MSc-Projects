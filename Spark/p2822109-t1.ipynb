{
 "cells": [
  {
   "cell_type": "markdown",
   "id": "3d8c334d",
   "metadata": {},
   "source": [
    "# Spark Assignment\n",
    "---\n",
    "\n",
    "> *Name:* Panagiota Gkourioti <br />\n",
    "> *Student ID:* p2822109 <br />\n",
    "> *Course:* Big Data Systems and Architectures <br />\n",
    "> *Professor:* Thanasis Vergoulis <br />\n",
    "\n",
    "> Department of Management Science and Technology <br />\n",
    "> Athens University of Economics and Business <br />\n",
    "\n",
    "## Description of the case\n",
    "\n",
    "This project focuses on exploring books metadata using Apache Spark (and PySpark, in particular) in order to reveal useful insights.\n",
    "\n",
    "## Load the necessary libraries\n",
    "\n",
    "Initially, the necessary libraries that will be used in this project are imported."
   ]
  },
  {
   "cell_type": "code",
   "execution_count": 2,
   "id": "5c0a84c8",
   "metadata": {},
   "outputs": [],
   "source": [
    "# import packages\n",
    "import findspark\n",
    "# findspark.init('C:\\spark\\spark-3.2.1-bin-hadoop3.2') for local installation of spark\n",
    "from pyspark.sql.session import SparkSession\n",
    "from pyspark.context import SparkContext\n",
    "sc = SparkContext.getOrCreate()\n",
    "spark = SparkSession(sc)\n",
    "import pyspark.sql.types as T\n",
    "import pyspark.sql.functions as F "
   ]
  },
  {
   "cell_type": "markdown",
   "id": "e1ea58f9",
   "metadata": {},
   "source": [
    "## Task 1\n",
    "\n",
    "Our first task is to explore the dataset. We will use SparkSQL with Dataframes in a Jupyter notebook that delivers the following:\n",
    "- It uses the json() function to load the dataset.\n",
    "- It counts and displays the number of books in the database.\n",
    "- It counts and displays the number of e-books in the database (based on the “is_ebook” field).\n",
    "- It uses the summary() command to display basic statistics about the “average_rating” field.\n",
    "- It uses the groupby() and count() commands to display all distinct values in the “format” field and their number of appearances."
   ]
  },
  {
   "cell_type": "code",
   "execution_count": 3,
   "id": "d4761fcb",
   "metadata": {},
   "outputs": [],
   "source": [
    "# load the data \n",
    "books = spark.read.json(\"books_5000.json\")"
   ]
  },
  {
   "cell_type": "code",
   "execution_count": 4,
   "id": "249d02a2",
   "metadata": {
    "scrolled": false
   },
   "outputs": [
    {
     "name": "stdout",
     "output_type": "stream",
     "text": [
      "root\n",
      " |-- asin: string (nullable = true)\n",
      " |-- authors: array (nullable = true)\n",
      " |    |-- element: struct (containsNull = true)\n",
      " |    |    |-- author_id: string (nullable = true)\n",
      " |    |    |-- role: string (nullable = true)\n",
      " |-- average_rating: string (nullable = true)\n",
      " |-- book_id: string (nullable = true)\n",
      " |-- country_code: string (nullable = true)\n",
      " |-- description: string (nullable = true)\n",
      " |-- edition_information: string (nullable = true)\n",
      " |-- format: string (nullable = true)\n",
      " |-- image_url: string (nullable = true)\n",
      " |-- is_ebook: string (nullable = true)\n",
      " |-- isbn: string (nullable = true)\n",
      " |-- isbn13: string (nullable = true)\n",
      " |-- kindle_asin: string (nullable = true)\n",
      " |-- language_code: string (nullable = true)\n",
      " |-- link: string (nullable = true)\n",
      " |-- num_pages: string (nullable = true)\n",
      " |-- popular_shelves: array (nullable = true)\n",
      " |    |-- element: struct (containsNull = true)\n",
      " |    |    |-- count: string (nullable = true)\n",
      " |    |    |-- name: string (nullable = true)\n",
      " |-- publication_day: string (nullable = true)\n",
      " |-- publication_month: string (nullable = true)\n",
      " |-- publication_year: string (nullable = true)\n",
      " |-- publisher: string (nullable = true)\n",
      " |-- ratings_count: string (nullable = true)\n",
      " |-- series: array (nullable = true)\n",
      " |    |-- element: string (containsNull = true)\n",
      " |-- similar_books: array (nullable = true)\n",
      " |    |-- element: string (containsNull = true)\n",
      " |-- text_reviews_count: string (nullable = true)\n",
      " |-- title: string (nullable = true)\n",
      " |-- title_without_series: string (nullable = true)\n",
      " |-- url: string (nullable = true)\n",
      " |-- work_id: string (nullable = true)\n",
      "\n"
     ]
    }
   ],
   "source": [
    "# check the schema and data types\n",
    "books.printSchema()"
   ]
  },
  {
   "cell_type": "code",
   "execution_count": 7,
   "id": "9b307088",
   "metadata": {},
   "outputs": [
    {
     "name": "stdout",
     "output_type": "stream",
     "text": [
      "No duplicates.\n"
     ]
    }
   ],
   "source": [
    "# check for duplicates\n",
    "if books.count() > books.dropDuplicates().count():\n",
    "    print('There are duplicate rows in dataframe.')\n",
    "else:\n",
    "    print('No duplicates.')"
   ]
  },
  {
   "cell_type": "code",
   "execution_count": 8,
   "id": "9c59d6b5",
   "metadata": {},
   "outputs": [
    {
     "name": "stdout",
     "output_type": "stream",
     "text": [
      "The number of books in database is: 4999\n",
      "The number of e-books in database is: 749\n"
     ]
    }
   ],
   "source": [
    "# count and display the number of books in the database\n",
    "books_num = books.count()\n",
    "print(\"The number of books in database is:\", books_num)\n",
    "\n",
    "# count and display the number of e-books in the database\n",
    "ebooks_num = books.select('is_ebook').where(books.is_ebook=='true').count()\n",
    "print(\"The number of e-books in database is:\", ebooks_num)"
   ]
  },
  {
   "cell_type": "code",
   "execution_count": 20,
   "id": "18aeb4be",
   "metadata": {},
   "outputs": [
    {
     "name": "stdout",
     "output_type": "stream",
     "text": [
      "+-------+-------------------+\n",
      "|summary|     average_rating|\n",
      "+-------+-------------------+\n",
      "|  count|               4999|\n",
      "|   mean| 3.9112042408481678|\n",
      "| stddev|0.43444489528688784|\n",
      "|    min|               1.00|\n",
      "|    25%|               3.66|\n",
      "|    50%|               3.98|\n",
      "|    75%|               4.23|\n",
      "|    max|               5.00|\n",
      "+-------+-------------------+\n",
      "\n"
     ]
    }
   ],
   "source": [
    "# display descriptive statistics about the “average_rating” field\n",
    "from pyspark.sql.functions import col\n",
    "df1 = books.select('average_rating').summary()\n",
    "df1.show()"
   ]
  },
  {
   "cell_type": "code",
   "execution_count": 24,
   "id": "526d288c",
   "metadata": {},
   "outputs": [
    {
     "name": "stdout",
     "output_type": "stream",
     "text": [
      "+--------------------------+-----+\n",
      "|format                    |count|\n",
      "+--------------------------+-----+\n",
      "|Paperback comic book      |1    |\n",
      "|Paperback                 |2629 |\n",
      "|Bolsillo con sobrecubierta|2    |\n",
      "|Audible Audio             |1    |\n",
      "|paperback                 |2    |\n",
      "|Library Binding           |2    |\n",
      "|Board book                |11   |\n",
      "|Klappenbroschur           |1    |\n",
      "|Nook                      |1    |\n",
      "|Illustrated               |2    |\n",
      "|Unknown Binding           |7    |\n",
      "|Hardcover                 |826  |\n",
      "|Issue                     |1    |\n",
      "|Album                     |2    |\n",
      "|Webtoon                   |2    |\n",
      "|Book                      |1    |\n",
      "|Paperback Manga           |2    |\n",
      "|Kindle Edition            |41   |\n",
      "|Comics                    |2    |\n",
      "|hardcover                 |1    |\n",
      "|Rustica con sobrecubierta |1    |\n",
      "|Comic Book                |15   |\n",
      "|Comic                     |15   |\n",
      "|Mass Market Paperback     |64   |\n",
      "|comics                    |1    |\n",
      "|Audio                     |1    |\n",
      "|ebook                     |84   |\n",
      "|                          |1245 |\n",
      "|Hardcover with dust jacket|2    |\n",
      "|Digital Comic             |1    |\n",
      "|Spiral-bound              |1    |\n",
      "|Broche                    |2    |\n",
      "|Graphic Novel             |2    |\n",
      "|FC                        |2    |\n",
      "|Audio CD                  |2    |\n",
      "|Slipcased Hardcover       |2    |\n",
      "|Klappbroschur             |1    |\n",
      "|DC Elseworld Series       |1    |\n",
      "|webtoon                   |1    |\n",
      "|Poche                     |1    |\n",
      "|Broschur                  |1    |\n",
      "|free manga scanlation     |1    |\n",
      "|Custom Handmade Binding   |1    |\n",
      "|Trade Paperback           |2    |\n",
      "|Online                    |1    |\n",
      "|Grapa                     |1    |\n",
      "|Graphic Novels            |1    |\n",
      "|Brochura                  |1    |\n",
      "|Single Issue              |1    |\n",
      "|Broschiert                |2    |\n",
      "|Planeta                   |1    |\n",
      "|Unbound                   |1    |\n",
      "|Tapa dura                 |1    |\n",
      "|Big Manga/Bunkoban        |1    |\n",
      "|comic                     |1    |\n",
      "|One-Shot Comic            |1    |\n",
      "+--------------------------+-----+\n",
      "\n"
     ]
    }
   ],
   "source": [
    "# display all distinct values in the “format” field and their number of appearances\n",
    "df2 = books.groupBy('format').count()\n",
    "df2.show(100,False)"
   ]
  },
  {
   "cell_type": "code",
   "execution_count": null,
   "id": "82f44ec3",
   "metadata": {},
   "outputs": [],
   "source": []
  }
 ],
 "metadata": {
  "kernelspec": {
   "display_name": "Python 3 (ipykernel)",
   "language": "python",
   "name": "python3"
  },
  "language_info": {
   "codemirror_mode": {
    "name": "ipython",
    "version": 3
   },
   "file_extension": ".py",
   "mimetype": "text/x-python",
   "name": "python",
   "nbconvert_exporter": "python",
   "pygments_lexer": "ipython3",
   "version": "3.9.12"
  }
 },
 "nbformat": 4,
 "nbformat_minor": 5
}
